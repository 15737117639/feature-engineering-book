{
 "cells": [
  {
   "cell_type": "code",
   "execution_count": 115,
   "metadata": {
    "collapsed": true
   },
   "outputs": [],
   "source": [
    "import pandas as pd\n",
    "import json"
   ]
  },
  {
   "cell_type": "code",
   "execution_count": 116,
   "metadata": {},
   "outputs": [
    {
     "data": {
      "text/plain": [
       "(10, 8)"
      ]
     },
     "execution_count": 116,
     "metadata": {},
     "output_type": "execute_result"
    }
   ],
   "source": [
    "# Load the first 10 reviews\n",
    "f = open('data/yelp/v6/yelp_dataset_challenge_academic_dataset/yelp_academic_dataset_review.json')\n",
    "js = []\n",
    "for i in range(10):\n",
    "    js.append(json.loads(f.readline()))\n",
    "f.close()\n",
    "review_df = pd.DataFrame(js)\n",
    "review_df.shape"
   ]
  },
  {
   "cell_type": "markdown",
   "metadata": {},
   "source": [
    "### Using spacy: [Installation instructions for spacy](https://spacy.io/docs/usage/)"
   ]
  },
  {
   "cell_type": "code",
   "execution_count": 117,
   "metadata": {
    "collapsed": true
   },
   "outputs": [],
   "source": [
    "import spacy"
   ]
  },
  {
   "cell_type": "code",
   "execution_count": 118,
   "metadata": {},
   "outputs": [
    {
     "name": "stdout",
     "output_type": "stream",
     "text": [
      "\n",
      "    \u001b[93mInfo about model en\u001b[0m\n",
      "\n",
      "    url                https://explosion.ai\n",
      "    source             /anaconda/envs/pharoah-eagle-owl/lib/python3.5/site-packages/en_core_web_sm/en_core_web_sm-1.2.0\n",
      "    name               core_web_sm    \n",
      "    version            1.2.0          \n",
      "    description        Small English model for spaCy. Includes vocabulary, syntax, entities and word vectors (GloVe).\n",
      "    lang               en             \n",
      "    link               //anaconda/envs/pharoah-eagle-owl/lib/python3.5/site-packages/spacy/data/en\n",
      "    email              contact@explosion.ai\n",
      "    author             Explosion AI   \n",
      "    spacy_version      >=1.7.0,<2.0.0 \n",
      "    license            CC BY-SA 3.0   \n",
      "\n"
     ]
    }
   ],
   "source": [
    "# model meta data\n",
    "spacy.info('en')"
   ]
  },
  {
   "cell_type": "code",
   "execution_count": 119,
   "metadata": {
    "collapsed": true
   },
   "outputs": [],
   "source": [
    "# preload the language model\n",
    "nlp = spacy.load('en')"
   ]
  },
  {
   "cell_type": "code",
   "execution_count": 120,
   "metadata": {},
   "outputs": [
    {
     "data": {
      "text/plain": [
       "pandas.core.series.Series"
      ]
     },
     "execution_count": 120,
     "metadata": {},
     "output_type": "execute_result"
    }
   ],
   "source": [
    "# Keeping it in a pandas dataframe\n",
    "review_df['text_pos'] = review_df['text'].apply(nlp)\n",
    "\n",
    "    \n",
    "type(review_df['text_pos'])"
   ]
  },
  {
   "cell_type": "code",
   "execution_count": 121,
   "metadata": {},
   "outputs": [
    {
     "data": {
      "text/plain": [
       "spacy.tokens.doc.Doc"
      ]
     },
     "execution_count": 121,
     "metadata": {},
     "output_type": "execute_result"
    }
   ],
   "source": [
    "type(review_df['text_pos'][0])"
   ]
  },
  {
   "cell_type": "code",
   "execution_count": 122,
   "metadata": {},
   "outputs": [
    {
     "name": "stdout",
     "output_type": "stream",
     "text": [
      "dr INTJ UH\n",
      ". PUNCT .\n",
      "goldberg ADJ JJ\n",
      "offers VERB VBZ\n",
      "everything NOUN NN\n",
      "i PRON PRP\n",
      "look VERB VBP\n",
      "for ADP IN\n",
      "in ADP IN\n",
      "a DET DT\n",
      "general ADJ JJ\n",
      "practitioner NOUN NN\n",
      ". PUNCT .\n",
      "  SPACE SP\n",
      "he PRON PRP\n",
      "'s VERB VBZ\n",
      "nice ADJ JJ\n",
      "and CCONJ CC\n",
      "easy ADJ JJ\n",
      "to PART TO\n",
      "talk VERB VB\n",
      "to ADP IN\n",
      "without ADP IN\n",
      "being VERB VBG\n",
      "patronizing ADJ JJ\n",
      "; PUNCT :\n",
      "he PRON PRP\n",
      "'s VERB VBZ\n",
      "always ADV RB\n",
      "on ADP IN\n",
      "time NOUN NN\n",
      "in ADP IN\n",
      "seeing VERB VBG\n",
      "his ADJ PRP$\n",
      "patients NOUN NNS\n",
      "; PUNCT :\n",
      "he PRON PRP\n",
      "'s VERB VBZ\n",
      "affiliated VERB VBN\n",
      "with ADP IN\n",
      "a DET DT\n",
      "top ADJ JJ\n",
      "- PUNCT HYPH\n",
      "notch NOUN NN\n",
      "hospital NOUN NN\n",
      "( PUNCT -LRB-\n",
      "nyu NOUN NN\n",
      ") PUNCT -RRB-\n",
      "which ADJ WDT\n",
      "my ADJ PRP$\n",
      "parents NOUN NNS\n",
      "have VERB VBP\n",
      "explained VERB VBN\n",
      "to ADP IN\n",
      "me PRON PRP\n",
      "is VERB VBZ\n",
      "very ADV RB\n",
      "important ADJ JJ\n",
      "in ADP IN\n",
      "case NOUN NN\n",
      "something NOUN NN\n",
      "happens VERB VBZ\n",
      "and CCONJ CC\n",
      "you PRON PRP\n",
      "need VERB VBP\n",
      "surgery NOUN NN\n",
      "; PUNCT :\n",
      "and CCONJ CC\n",
      "you PRON PRP\n",
      "can VERB MD\n",
      "get VERB VB\n",
      "referrals NOUN NNS\n",
      "to PART TO\n",
      "see VERB VB\n",
      "specialists NOUN NNS\n",
      "without ADP IN\n",
      "having VERB VBG\n",
      "to PART TO\n",
      "see VERB VB\n",
      "him PRON PRP\n",
      "first ADV RB\n",
      ". PUNCT .\n",
      "  SPACE SP\n",
      "really ADV RB\n",
      ", PUNCT ,\n",
      "what NOUN WP\n",
      "more ADJ JJR\n",
      "do VERB VBP\n",
      "you PRON PRP\n",
      "need VERB VB\n",
      "? PUNCT .\n",
      "  SPACE SP\n",
      "i PRON PRP\n",
      "'m VERB VBP\n",
      "sitting VERB VBG\n",
      "here ADV RB\n",
      "trying VERB VBG\n",
      "to PART TO\n",
      "think VERB VB\n",
      "of ADP IN\n",
      "any DET DT\n",
      "complaints NOUN NNS\n",
      "i PRON PRP\n",
      "have VERB VBP\n",
      "about ADP IN\n",
      "him PRON PRP\n",
      ", PUNCT ,\n",
      "but CCONJ CC\n",
      "i PRON PRP\n",
      "'m VERB VBP\n",
      "really ADV RB\n",
      "drawing VERB VBG\n",
      "a DET DT\n",
      "blank NOUN NN\n",
      ". PUNCT .\n"
     ]
    }
   ],
   "source": [
    "# spacy gives you both fine grained (.pos_) + coarse grained (.tag_) parts of speech    \n",
    "for doc in review_df['text_pos'][0]:\n",
    "    print(doc.text, doc.pos_, doc.tag_)"
   ]
  },
  {
   "cell_type": "code",
   "execution_count": 125,
   "metadata": {},
   "outputs": [
    {
     "name": "stdout",
     "output_type": "stream",
     "text": [
      "[everything, i, a general practitioner, he, he, time, his patients, he, a top-notch hospital, my parents, me, case, something, you, surgery, you, referrals, specialists, him, what, you, i, any complaints, i, him, i, a blank]\n"
     ]
    }
   ],
   "source": [
    "# spaCy also does noun chunking for us\n",
    "\n",
    "print([chunk for chunk in review_df['text_pos'][0].noun_chunks])"
   ]
  },
  {
   "cell_type": "markdown",
   "metadata": {},
   "source": [
    "### Using [Textblob](https://textblob.readthedocs.io/en/dev/)"
   ]
  },
  {
   "cell_type": "code",
   "execution_count": 1,
   "metadata": {
    "collapsed": true
   },
   "outputs": [],
   "source": [
    "from textblob import TextBlob"
   ]
  },
  {
   "cell_type": "markdown",
   "metadata": {},
   "source": [
    "The default tagger in TextBlob uses the PatternTagger, the same as [pattern](https://www.clips.uantwerpen.be/pattern), which is fine for our example. To use the NLTK tagger, we can specify the pos_tagger when we call TextBlob. More [here](http://textblob.readthedocs.io/en/dev/advanced_usage.html#advanced)."
   ]
  },
  {
   "cell_type": "code",
   "execution_count": 111,
   "metadata": {},
   "outputs": [
    {
     "data": {
      "text/plain": [
       "pandas.core.series.Series"
      ]
     },
     "execution_count": 111,
     "metadata": {},
     "output_type": "execute_result"
    }
   ],
   "source": [
    "review_df['blob'] = review_df['text'].apply(TextBlob)\n",
    "\n",
    "type(review_df['blob'])"
   ]
  },
  {
   "cell_type": "code",
   "execution_count": 112,
   "metadata": {},
   "outputs": [
    {
     "data": {
      "text/plain": [
       "textblob.blob.TextBlob"
      ]
     },
     "execution_count": 112,
     "metadata": {},
     "output_type": "execute_result"
    }
   ],
   "source": [
    "type(review_df['blob'][0])"
   ]
  },
  {
   "cell_type": "code",
   "execution_count": 113,
   "metadata": {},
   "outputs": [
    {
     "data": {
      "text/plain": [
       "[('dr.', 'NN'),\n",
       " ('goldberg', 'NN'),\n",
       " ('offers', 'VBZ'),\n",
       " ('everything', 'NN'),\n",
       " ('i', 'NN'),\n",
       " ('look', 'VBP'),\n",
       " ('for', 'IN'),\n",
       " ('in', 'IN'),\n",
       " ('a', 'DT'),\n",
       " ('general', 'JJ'),\n",
       " ('practitioner', 'NN'),\n",
       " ('he', 'PRP'),\n",
       " (\"'s\", 'VBZ'),\n",
       " ('nice', 'JJ'),\n",
       " ('and', 'CC'),\n",
       " ('easy', 'JJ'),\n",
       " ('to', 'TO'),\n",
       " ('talk', 'VB'),\n",
       " ('to', 'TO'),\n",
       " ('without', 'IN'),\n",
       " ('being', 'VBG'),\n",
       " ('patronizing', 'NN'),\n",
       " ('he', 'PRP'),\n",
       " (\"'s\", 'VBZ'),\n",
       " ('always', 'RB'),\n",
       " ('on', 'IN'),\n",
       " ('time', 'NN'),\n",
       " ('in', 'IN'),\n",
       " ('seeing', 'VBG'),\n",
       " ('his', 'PRP$'),\n",
       " ('patients', 'NNS'),\n",
       " ('he', 'PRP'),\n",
       " (\"'s\", 'VBZ'),\n",
       " ('affiliated', 'JJ'),\n",
       " ('with', 'IN'),\n",
       " ('a', 'DT'),\n",
       " ('top-notch', 'JJ'),\n",
       " ('hospital', 'NN'),\n",
       " ('nyu', 'NN'),\n",
       " ('which', 'WDT'),\n",
       " ('my', 'PRP$'),\n",
       " ('parents', 'NNS'),\n",
       " ('have', 'VBP'),\n",
       " ('explained', 'VBN'),\n",
       " ('to', 'TO'),\n",
       " ('me', 'PRP'),\n",
       " ('is', 'VBZ'),\n",
       " ('very', 'RB'),\n",
       " ('important', 'JJ'),\n",
       " ('in', 'IN'),\n",
       " ('case', 'NN'),\n",
       " ('something', 'NN'),\n",
       " ('happens', 'NNS'),\n",
       " ('and', 'CC'),\n",
       " ('you', 'PRP'),\n",
       " ('need', 'VBP'),\n",
       " ('surgery', 'RB'),\n",
       " ('and', 'CC'),\n",
       " ('you', 'PRP'),\n",
       " ('can', 'MD'),\n",
       " ('get', 'VB'),\n",
       " ('referrals', 'NNS'),\n",
       " ('to', 'TO'),\n",
       " ('see', 'VB'),\n",
       " ('specialists', 'NNS'),\n",
       " ('without', 'IN'),\n",
       " ('having', 'VBG'),\n",
       " ('to', 'TO'),\n",
       " ('see', 'VB'),\n",
       " ('him', 'PRP'),\n",
       " ('first', 'RB'),\n",
       " ('really', 'RB'),\n",
       " ('what', 'WP'),\n",
       " ('more', 'RBR'),\n",
       " ('do', 'VBP'),\n",
       " ('you', 'PRP'),\n",
       " ('need', 'VB'),\n",
       " ('i', 'VB'),\n",
       " (\"'m\", 'VBP'),\n",
       " ('sitting', 'VBG'),\n",
       " ('here', 'RB'),\n",
       " ('trying', 'VBG'),\n",
       " ('to', 'TO'),\n",
       " ('think', 'VB'),\n",
       " ('of', 'IN'),\n",
       " ('any', 'DT'),\n",
       " ('complaints', 'NNS'),\n",
       " ('i', 'NNS'),\n",
       " ('have', 'VBP'),\n",
       " ('about', 'IN'),\n",
       " ('him', 'PRP'),\n",
       " ('but', 'CC'),\n",
       " ('i', 'JJ'),\n",
       " (\"'m\", 'VBP'),\n",
       " ('really', 'RB'),\n",
       " ('drawing', 'VBG'),\n",
       " ('a', 'DT'),\n",
       " ('blank', 'NN')]"
      ]
     },
     "execution_count": 113,
     "metadata": {},
     "output_type": "execute_result"
    }
   ],
   "source": [
    "review_df['blob'][0].tags"
   ]
  },
  {
   "cell_type": "code",
   "execution_count": 114,
   "metadata": {},
   "outputs": [
    {
     "name": "stdout",
     "output_type": "stream",
     "text": [
      "['dr. goldberg', 'i look', 'general practitioner', 'top-notch hospital', \"i 'm\", 'complaints i', \"i 'm\"]\n"
     ]
    }
   ],
   "source": [
    "# TextBlob can give us the noun phrases \n",
    "def extract_np(x):\n",
    "    return x.noun_phrases\n",
    "\n",
    "review_df['np'] = review_df['blob'].apply(extract_np)\n",
    "    \n",
    "print(review_df['np'][0])"
   ]
  }
 ],
 "metadata": {
  "kernelspec": {
   "display_name": "Python 3",
   "language": "python",
   "name": "python3"
  },
  "language_info": {
   "codemirror_mode": {
    "name": "ipython",
    "version": 3
   },
   "file_extension": ".py",
   "mimetype": "text/x-python",
   "name": "python",
   "nbconvert_exporter": "python",
   "pygments_lexer": "ipython3",
   "version": "3.5.3"
  }
 },
 "nbformat": 4,
 "nbformat_minor": 2
}
