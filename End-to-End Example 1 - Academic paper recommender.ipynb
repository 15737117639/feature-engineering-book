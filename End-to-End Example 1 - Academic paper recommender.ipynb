{
 "cells": [
  {
   "cell_type": "markdown",
   "metadata": {},
   "source": [
    "**Helpful Links: Where the Data Lives**\n",
    "\n",
    "Open Academic Society: [Project Page](https://www.openacademic.ai/oag/)\n",
    "\n",
    "Microsoft Research: [MS Academic Graph](https://www.microsoft.com/en-us/research/project/microsoft-academic-graph/)"
   ]
  },
  {
   "cell_type": "code",
   "execution_count": 1,
   "metadata": {
    "collapsed": true
   },
   "outputs": [],
   "source": [
    "import pandas as pd"
   ]
  },
  {
   "cell_type": "code",
   "execution_count": 2,
   "metadata": {
    "collapsed": true
   },
   "outputs": [],
   "source": [
    "data = pd.read_json('data/mag_papers_0/mag_subset.txt', lines=True)"
   ]
  },
  {
   "cell_type": "code",
   "execution_count": 3,
   "metadata": {},
   "outputs": [
    {
     "data": {
      "text/plain": [
       "(10000, 19)"
      ]
     },
     "execution_count": 3,
     "metadata": {},
     "output_type": "execute_result"
    }
   ],
   "source": [
    "data.shape"
   ]
  },
  {
   "cell_type": "code",
   "execution_count": 4,
   "metadata": {},
   "outputs": [
    {
     "data": {
      "text/plain": [
       "Index(['abstract', 'authors', 'doc_type', 'doi', 'fos', 'id', 'issue',\n",
       "       'keywords', 'lang', 'n_citation', 'page_end', 'page_start', 'publisher',\n",
       "       'references', 'title', 'url', 'venue', 'volume', 'year'],\n",
       "      dtype='object')"
      ]
     },
     "execution_count": 4,
     "metadata": {},
     "output_type": "execute_result"
    }
   ],
   "source": [
    "data.columns"
   ]
  },
  {
   "cell_type": "code",
   "execution_count": 264,
   "metadata": {},
   "outputs": [
    {
     "data": {
      "text/plain": [
       "(5167, 19)"
      ]
     },
     "execution_count": 264,
     "metadata": {},
     "output_type": "execute_result"
    }
   ],
   "source": [
    "# filter out non-English articles\n",
    "\n",
    "model_df = data[data.lang == 'en']\n",
    "\n",
    "model_df.shape"
   ]
  },
  {
   "cell_type": "code",
   "execution_count": 265,
   "metadata": {},
   "outputs": [
    {
     "data": {
      "text/plain": [
       "(5167, 6)"
      ]
     },
     "execution_count": 265,
     "metadata": {},
     "output_type": "execute_result"
    }
   ],
   "source": [
    "# keep abstract, authors, fos, keywords, year, title\n",
    "model_df = model_df.drop(['doc_type', 'doi', 'id', 'issue', 'lang', 'n_citation', 'page_end', \n",
    "                            'page_start', 'publisher', 'references', 'url', 'venue', 'volume'], axis=1)\n",
    "\n",
    "model_df.shape"
   ]
  },
  {
   "cell_type": "markdown",
   "metadata": {},
   "source": [
    "# (1) raw data > algorithm w/ XKCD comic"
   ]
  },
  {
   "cell_type": "markdown",
   "metadata": {
    "collapsed": true
   },
   "source": [
    "## Content Based Recommendation using Jaccard Similarity"
   ]
  },
  {
   "cell_type": "markdown",
   "metadata": {},
   "source": [
    "How to go about building a recommender system? \n",
    "\n",
    "Let's start simple with a few fields. We'll calculate the Jaccard Similarity between two items, then rank the results to choose a \"most similar\" paper for each input."
   ]
  },
  {
   "cell_type": "code",
   "execution_count": 7,
   "metadata": {},
   "outputs": [
    {
     "data": {
      "text/html": [
       "<div>\n",
       "<style>\n",
       "    .dataframe thead tr:only-child th {\n",
       "        text-align: right;\n",
       "    }\n",
       "\n",
       "    .dataframe thead th {\n",
       "        text-align: left;\n",
       "    }\n",
       "\n",
       "    .dataframe tbody tr th {\n",
       "        vertical-align: top;\n",
       "    }\n",
       "</style>\n",
       "<table border=\"1\" class=\"dataframe\">\n",
       "  <thead>\n",
       "    <tr style=\"text-align: right;\">\n",
       "      <th></th>\n",
       "      <th>abstract</th>\n",
       "      <th>authors</th>\n",
       "      <th>fos</th>\n",
       "      <th>keywords</th>\n",
       "      <th>title</th>\n",
       "      <th>year</th>\n",
       "    </tr>\n",
       "  </thead>\n",
       "  <tbody>\n",
       "    <tr>\n",
       "      <th>0</th>\n",
       "      <td>A system and method for maskless direct write ...</td>\n",
       "      <td>NaN</td>\n",
       "      <td>[Electronic engineering, Computer hardware, En...</td>\n",
       "      <td>NaN</td>\n",
       "      <td>System and Method for Maskless Direct Write Li...</td>\n",
       "      <td>2015</td>\n",
       "    </tr>\n",
       "    <tr>\n",
       "      <th>1</th>\n",
       "      <td>NaN</td>\n",
       "      <td>[{'name': 'Ahmed M. Alluwaimi'}]</td>\n",
       "      <td>[Biology, Virology, Immunology, Microbiology]</td>\n",
       "      <td>[paratuberculosis, of, subspecies, proceedings...</td>\n",
       "      <td>The dilemma of the Mycobacterium avium subspec...</td>\n",
       "      <td>2016</td>\n",
       "    </tr>\n",
       "  </tbody>\n",
       "</table>\n",
       "</div>"
      ],
      "text/plain": [
       "                                            abstract  \\\n",
       "0  A system and method for maskless direct write ...   \n",
       "1                                                NaN   \n",
       "\n",
       "                            authors  \\\n",
       "0                               NaN   \n",
       "1  [{'name': 'Ahmed M. Alluwaimi'}]   \n",
       "\n",
       "                                                 fos  \\\n",
       "0  [Electronic engineering, Computer hardware, En...   \n",
       "1      [Biology, Virology, Immunology, Microbiology]   \n",
       "\n",
       "                                            keywords  \\\n",
       "0                                                NaN   \n",
       "1  [paratuberculosis, of, subspecies, proceedings...   \n",
       "\n",
       "                                               title  year  \n",
       "0  System and Method for Maskless Direct Write Li...  2015  \n",
       "1  The dilemma of the Mycobacterium avium subspec...  2016  "
      ]
     },
     "execution_count": 7,
     "metadata": {},
     "output_type": "execute_result"
    }
   ],
   "source": [
    "model_df.head(2)"
   ]
  },
  {
   "cell_type": "markdown",
   "metadata": {},
   "source": [
    "We can already see that this dataset will need some wrangling. Lists and dictionaries are good for data storage, but not [tidy](http://vita.had.co.nz/papers/tidy-data.html) or well-suited for machine learning without some unpacking."
   ]
  },
  {
   "cell_type": "code",
   "execution_count": 8,
   "metadata": {
    "collapsed": true
   },
   "outputs": [],
   "source": [
    "unique_fos = sorted(list({ feature\n",
    "                          for paper_row in model_df.fos.fillna('0')\n",
    "                          for feature in paper_row }))\n",
    "\n",
    "unique_year = sorted(model_df['year'].astype('str').unique())\n",
    "\n",
    "paper_features = unique_fos + unique_year"
   ]
  },
  {
   "cell_type": "code",
   "execution_count": 9,
   "metadata": {
    "collapsed": true
   },
   "outputs": [],
   "source": [
    "def feature_array(x, var, unique_array):\n",
    "    row_dict = {}\n",
    "    for i in x.index:\n",
    "        var_dict = {}\n",
    "        \n",
    "        for j in range(len(unique_array)):\n",
    "            if type(x[i]) is list:\n",
    "                if unique_array[j] in x[i]:\n",
    "                    var_dict.update({var + '_' + unique_array[j]: 1})\n",
    "                else:\n",
    "                    var_dict.update({var + '_' + unique_array[j]: 0})\n",
    "            else:    \n",
    "                if unique_array[j] == str(x[i]):\n",
    "                    var_dict.update({var + '_' + unique_array[j]: 1})\n",
    "                else:\n",
    "                    var_dict.update({var + '_' + unique_array[j]: 0})\n",
    "        \n",
    "        row_dict.update({i : var_dict})\n",
    "    \n",
    "    feature_df = pd.DataFrame.from_dict(row_dict, dtype='str').T\n",
    "    \n",
    "    return feature_df"
   ]
  },
  {
   "cell_type": "markdown",
   "metadata": {},
   "source": [
    "We will start with a simple example of building a recommder with just a few fields, building sparse arrays of available features to calculate for the Jaccard similary between papers. We will see if reasonably similar papers can be found in a timely manner."
   ]
  },
  {
   "cell_type": "code",
   "execution_count": 10,
   "metadata": {},
   "outputs": [
    {
     "name": "stdout",
     "output_type": "stream",
     "text": [
      "CPU times: user 8min 38s, sys: 5.88 s, total: 8min 44s\n",
      "Wall time: 8min 51s\n",
      "Size of fos feature array:  779231832\n"
     ]
    }
   ],
   "source": [
    "%time fos_features = feature_array(model_df['fos'], 'fos', unique_fos)\n",
    "\n",
    "from sys import getsizeof\n",
    "print('Size of fos feature array: ', getsizeof(fos_features))"
   ]
  },
  {
   "cell_type": "code",
   "execution_count": 12,
   "metadata": {},
   "outputs": [
    {
     "name": "stdout",
     "output_type": "stream",
     "text": [
      "CPU times: user 15.2 s, sys: 77 ms, total: 15.3 s\n",
      "Wall time: 15.4 s\n",
      "Size of year feature array:  22714156\n"
     ]
    }
   ],
   "source": [
    "%time year_features = feature_array(model_df['year'], 'year', unique_year)\n",
    "\n",
    "print('Size of year feature array: ', getsizeof(year_features))"
   ]
  },
  {
   "cell_type": "code",
   "execution_count": 13,
   "metadata": {},
   "outputs": [
    {
     "data": {
      "text/plain": [
       "4849"
      ]
     },
     "execution_count": 13,
     "metadata": {},
     "output_type": "execute_result"
    }
   ],
   "source": [
    "year_features.shape[1] + fos_features.shape[1]"
   ]
  },
  {
   "cell_type": "code",
   "execution_count": 14,
   "metadata": {},
   "outputs": [
    {
     "name": "stdout",
     "output_type": "stream",
     "text": [
      "CPU times: user 3.9 s, sys: 405 ms, total: 4.3 s\n",
      "Wall time: 4.36 s\n",
      "Size of first feature array:  802239497\n"
     ]
    }
   ],
   "source": [
    "# now looking at 5167 x  4849 array for our feature space\n",
    "\n",
    "%time first_features = fos_features.join(year_features).T\n",
    "\n",
    "print('Size of first feature array: ', getsizeof(first_features))"
   ]
  },
  {
   "cell_type": "markdown",
   "metadata": {},
   "source": [
    "Not bad, but waiting 8 mins for 10K observations for one feature seems a little slow. We are also using 802+MB with only two variables from our original data set. \n",
    "\n",
    "Let's see how our current features perform at giving us a good recommendation. We'll define a \"good\" recommendation as a paper that looks similar to the input."
   ]
  },
  {
   "cell_type": "code",
   "execution_count": 15,
   "metadata": {},
   "outputs": [
    {
     "data": {
      "text/html": [
       "<div>\n",
       "<style>\n",
       "    .dataframe thead tr:only-child th {\n",
       "        text-align: right;\n",
       "    }\n",
       "\n",
       "    .dataframe thead th {\n",
       "        text-align: left;\n",
       "    }\n",
       "\n",
       "    .dataframe tbody tr th {\n",
       "        vertical-align: top;\n",
       "    }\n",
       "</style>\n",
       "<table border=\"1\" class=\"dataframe\">\n",
       "  <thead>\n",
       "    <tr style=\"text-align: right;\">\n",
       "      <th></th>\n",
       "      <th>0</th>\n",
       "      <th>1</th>\n",
       "      <th>2</th>\n",
       "      <th>5</th>\n",
       "      <th>7</th>\n",
       "      <th>8</th>\n",
       "      <th>9</th>\n",
       "      <th>10</th>\n",
       "      <th>11</th>\n",
       "      <th>12</th>\n",
       "      <th>...</th>\n",
       "      <th>9979</th>\n",
       "      <th>9980</th>\n",
       "      <th>9981</th>\n",
       "      <th>9984</th>\n",
       "      <th>9986</th>\n",
       "      <th>9988</th>\n",
       "      <th>9994</th>\n",
       "      <th>9997</th>\n",
       "      <th>9998</th>\n",
       "      <th>9999</th>\n",
       "    </tr>\n",
       "  </thead>\n",
       "  <tbody>\n",
       "    <tr>\n",
       "      <th>fos_0</th>\n",
       "      <td>0</td>\n",
       "      <td>0</td>\n",
       "      <td>0</td>\n",
       "      <td>0</td>\n",
       "      <td>0</td>\n",
       "      <td>0</td>\n",
       "      <td>0</td>\n",
       "      <td>0</td>\n",
       "      <td>0</td>\n",
       "      <td>0</td>\n",
       "      <td>...</td>\n",
       "      <td>0</td>\n",
       "      <td>0</td>\n",
       "      <td>0</td>\n",
       "      <td>0</td>\n",
       "      <td>0</td>\n",
       "      <td>0</td>\n",
       "      <td>0</td>\n",
       "      <td>0</td>\n",
       "      <td>0</td>\n",
       "      <td>0</td>\n",
       "    </tr>\n",
       "    <tr>\n",
       "      <th>fos_1/N expansion</th>\n",
       "      <td>0</td>\n",
       "      <td>0</td>\n",
       "      <td>0</td>\n",
       "      <td>0</td>\n",
       "      <td>0</td>\n",
       "      <td>0</td>\n",
       "      <td>0</td>\n",
       "      <td>0</td>\n",
       "      <td>0</td>\n",
       "      <td>0</td>\n",
       "      <td>...</td>\n",
       "      <td>0</td>\n",
       "      <td>0</td>\n",
       "      <td>0</td>\n",
       "      <td>0</td>\n",
       "      <td>0</td>\n",
       "      <td>0</td>\n",
       "      <td>0</td>\n",
       "      <td>0</td>\n",
       "      <td>0</td>\n",
       "      <td>0</td>\n",
       "    </tr>\n",
       "    <tr>\n",
       "      <th>fos_10G-PON</th>\n",
       "      <td>0</td>\n",
       "      <td>0</td>\n",
       "      <td>0</td>\n",
       "      <td>0</td>\n",
       "      <td>0</td>\n",
       "      <td>0</td>\n",
       "      <td>0</td>\n",
       "      <td>0</td>\n",
       "      <td>0</td>\n",
       "      <td>0</td>\n",
       "      <td>...</td>\n",
       "      <td>0</td>\n",
       "      <td>0</td>\n",
       "      <td>0</td>\n",
       "      <td>0</td>\n",
       "      <td>0</td>\n",
       "      <td>0</td>\n",
       "      <td>0</td>\n",
       "      <td>0</td>\n",
       "      <td>0</td>\n",
       "      <td>0</td>\n",
       "    </tr>\n",
       "    <tr>\n",
       "      <th>fos_3D radar</th>\n",
       "      <td>0</td>\n",
       "      <td>0</td>\n",
       "      <td>0</td>\n",
       "      <td>0</td>\n",
       "      <td>0</td>\n",
       "      <td>0</td>\n",
       "      <td>0</td>\n",
       "      <td>0</td>\n",
       "      <td>0</td>\n",
       "      <td>0</td>\n",
       "      <td>...</td>\n",
       "      <td>0</td>\n",
       "      <td>0</td>\n",
       "      <td>0</td>\n",
       "      <td>0</td>\n",
       "      <td>0</td>\n",
       "      <td>0</td>\n",
       "      <td>0</td>\n",
       "      <td>0</td>\n",
       "      <td>0</td>\n",
       "      <td>0</td>\n",
       "    </tr>\n",
       "    <tr>\n",
       "      <th>fos_3D single-object recognition</th>\n",
       "      <td>0</td>\n",
       "      <td>0</td>\n",
       "      <td>0</td>\n",
       "      <td>0</td>\n",
       "      <td>0</td>\n",
       "      <td>0</td>\n",
       "      <td>0</td>\n",
       "      <td>0</td>\n",
       "      <td>0</td>\n",
       "      <td>0</td>\n",
       "      <td>...</td>\n",
       "      <td>0</td>\n",
       "      <td>0</td>\n",
       "      <td>0</td>\n",
       "      <td>0</td>\n",
       "      <td>0</td>\n",
       "      <td>0</td>\n",
       "      <td>0</td>\n",
       "      <td>0</td>\n",
       "      <td>0</td>\n",
       "      <td>0</td>\n",
       "    </tr>\n",
       "  </tbody>\n",
       "</table>\n",
       "<p>5 rows × 5167 columns</p>\n",
       "</div>"
      ],
      "text/plain": [
       "                                 0    1    2    5    7    8    9    10   11    \\\n",
       "fos_0                               0    0    0    0    0    0    0    0    0   \n",
       "fos_1/N expansion                   0    0    0    0    0    0    0    0    0   \n",
       "fos_10G-PON                         0    0    0    0    0    0    0    0    0   \n",
       "fos_3D radar                        0    0    0    0    0    0    0    0    0   \n",
       "fos_3D single-object recognition    0    0    0    0    0    0    0    0    0   \n",
       "\n",
       "                                 12   ...  9979 9980 9981 9984 9986 9988 9994  \\\n",
       "fos_0                               0 ...     0    0    0    0    0    0    0   \n",
       "fos_1/N expansion                   0 ...     0    0    0    0    0    0    0   \n",
       "fos_10G-PON                         0 ...     0    0    0    0    0    0    0   \n",
       "fos_3D radar                        0 ...     0    0    0    0    0    0    0   \n",
       "fos_3D single-object recognition    0 ...     0    0    0    0    0    0    0   \n",
       "\n",
       "                                 9997 9998 9999  \n",
       "fos_0                               0    0    0  \n",
       "fos_1/N expansion                   0    0    0  \n",
       "fos_10G-PON                         0    0    0  \n",
       "fos_3D radar                        0    0    0  \n",
       "fos_3D single-object recognition    0    0    0  \n",
       "\n",
       "[5 rows x 5167 columns]"
      ]
     },
     "execution_count": 15,
     "metadata": {},
     "output_type": "execute_result"
    }
   ],
   "source": [
    "first_features.head()"
   ]
  },
  {
   "cell_type": "code",
   "execution_count": 94,
   "metadata": {
    "collapsed": true
   },
   "outputs": [],
   "source": [
    "from scipy.spatial.distance import cosine\n",
    "\n",
    "def item_collab_filter(features_df):\n",
    "    item_similarities = pd.DataFrame(index = features_df.columns, columns = features_df.columns)\n",
    "    \n",
    "    for i in features_df.columns:\n",
    "        for j in features_df.columns:\n",
    "            item_similarities.loc[i][j] = 1 - cosine(features_df[i], features_df[j])\n",
    "    \n",
    "    return item_similarities"
   ]
  },
  {
   "cell_type": "code",
   "execution_count": 95,
   "metadata": {},
   "outputs": [
    {
     "name": "stdout",
     "output_type": "stream",
     "text": [
      "CPU times: user 73.5 ms, sys: 2.81 ms, total: 76.3 ms\n",
      "Wall time: 74.9 ms\n"
     ]
    }
   ],
   "source": [
    "%time foo = item_collab_filter(first_features.loc[:, 0:10])"
   ]
  },
  {
   "cell_type": "code",
   "execution_count": 97,
   "metadata": {},
   "outputs": [
    {
     "name": "stdout",
     "output_type": "stream",
     "text": [
      "CPU times: user 4min 26s, sys: 1.9 s, total: 4min 28s\n",
      "Wall time: 4min 30s\n"
     ]
    }
   ],
   "source": [
    "%time foo = item_collab_filter(first_features.loc[:, 0:1000])"
   ]
  },
  {
   "cell_type": "markdown",
   "metadata": {},
   "source": [
    "# >> TODO: INSERT CONFUSION MATRIX FOR FOO"
   ]
  },
  {
   "cell_type": "code",
   "execution_count": 180,
   "metadata": {
    "collapsed": true
   },
   "outputs": [],
   "source": [
    "def paper_recommender(paper_index):\n",
    "    print('Based on the paper: \\nindex = ', paper_index)\n",
    "    print(model_df.iloc[paper_index])\n",
    "    top_results = foo.loc[paper_index].sort_values(ascending=False).head(4)\n",
    "    print('\\nTop three results: ') \n",
    "    order = 1\n",
    "    for i in top_results.index.tolist()[-3:]:\n",
    "        print(order,'. Paper index = ', i)\n",
    "        print('Similarity score: ', top_results[i])\n",
    "        print(model_df.iloc[i], '\\n')\n",
    "        if order < 5: order += 1"
   ]
  },
  {
   "cell_type": "code",
   "execution_count": 179,
   "metadata": {},
   "outputs": [
    {
     "name": "stdout",
     "output_type": "stream",
     "text": [
      "Based on the paper: \n",
      "index =  2\n",
      "abstract                                                  NaN\n",
      "authors     [{'name': 'Jovana P. Lekovich', 'org': 'Weill ...\n",
      "fos                                                       NaN\n",
      "keywords                                                  NaN\n",
      "title       Should endometriosis be an indication for intr...\n",
      "year                                                     2015\n",
      "Name: 2, dtype: object\n",
      "\n",
      "Top five results: \n",
      "1 . Paper index =  2\n",
      "Similarity score:  1.0\n",
      "abstract                                                  NaN\n",
      "authors     [{'name': 'Jovana P. Lekovich', 'org': 'Weill ...\n",
      "fos                                                       NaN\n",
      "keywords                                                  NaN\n",
      "title       Should endometriosis be an indication for intr...\n",
      "year                                                     2015\n",
      "Name: 2, dtype: object \n",
      "\n",
      "2 . Paper index =  292\n",
      "Similarity score:  1.0\n",
      "abstract                                                  NaN\n",
      "authors     [{'name': 'John C. Newton'}, {'name': 'Beers M...\n",
      "fos         [Wide area multilateration, Maneuvering speed,...\n",
      "keywords                                                  NaN\n",
      "title                    Automatic speed control for aircraft\n",
      "year                                                     1955\n",
      "Name: 561, dtype: object \n",
      "\n",
      "3 . Paper index =  593\n",
      "Similarity score:  1.0\n",
      "abstract    This paper demonstrates that on‐site greywater...\n",
      "authors     [{'name': 'Eran Friedler', 'org': 'Division of...\n",
      "fos         [Public opinion, Environmental Engineering, Wa...\n",
      "keywords    [economic analysis, tratamiento desperdicios, ...\n",
      "title       The water saving potential and the socio-econo...\n",
      "year                                                     2008\n",
      "Name: 1152, dtype: object \n",
      "\n"
     ]
    }
   ],
   "source": [
    "paper_recommender(2)"
   ]
  },
  {
   "cell_type": "markdown",
   "metadata": {},
   "source": [
    "Yikes. That's not that great. Can we just push more data through? Well, yes, if you don't need speedy results. Even on this small data set, the time for training our model is too slow for quick, iterative engineering. Let's try some of our new feature engineering tricks to see if we can speed up computation time and find better features."
   ]
  },
  {
   "cell_type": "markdown",
   "metadata": {},
   "source": [
    "# (2) a few features, pipe, outcome"
   ]
  },
  {
   "cell_type": "code",
   "execution_count": 303,
   "metadata": {
    "collapsed": true
   },
   "outputs": [],
   "source": [
    "# first, let's start a new dataframe for our new features\n",
    "\n",
    "new_df = pd.DataFrame(index = model_df.index)"
   ]
  },
  {
   "cell_type": "markdown",
   "metadata": {},
   "source": [
    "Okay, we remember than numerical features unevenly distributed across a dataset can unnecessarily increase the size of our feature space. Let's wrangle this in first."
   ]
  },
  {
   "cell_type": "code",
   "execution_count": 229,
   "metadata": {
    "collapsed": true
   },
   "outputs": [],
   "source": [
    "import matplotlib.pyplot as plt\n",
    "import seaborn as sns\n",
    "import numpy as np\n",
    "%matplotlib notebook"
   ]
  },
  {
   "cell_type": "code",
   "execution_count": 230,
   "metadata": {},
   "outputs": [
    {
     "data": {
      "text/plain": [
       "9988    2012\n",
       "9994    2007\n",
       "9997    2008\n",
       "9998    2001\n",
       "9999    2015\n",
       "Name: year, dtype: int64"
      ]
     },
     "execution_count": 230,
     "metadata": {},
     "output_type": "execute_result"
    }
   ],
   "source": [
    "model_df['year'].tail()"
   ]
  },
  {
   "cell_type": "code",
   "execution_count": 193,
   "metadata": {},
   "outputs": [
    {
     "name": "stdout",
     "output_type": "stream",
     "text": [
      "Year spread:  1831  -  2017\n",
      "Quantile spread:\n",
      " 0.25    1990.0\n",
      "0.50    2005.0\n",
      "0.75    2012.0\n",
      "Name: year, dtype: float64\n"
     ]
    }
   ],
   "source": [
    "print(\"Year spread: \", model_df['year'].min(),\" - \", model_df['year'].max())\n",
    "print(\"Quantile spread:\\n\", model_df['year'].quantile([0.25, 0.5, 0.75]))"
   ]
  },
  {
   "cell_type": "code",
   "execution_count": 201,
   "metadata": {},
   "outputs": [
    {
     "data": {
      "application/javascript": [
       "/* Put everything inside the global mpl namespace */\n",
       "window.mpl = {};\n",
       "\n",
       "\n",
       "mpl.get_websocket_type = function() {\n",
       "    if (typeof(WebSocket) !== 'undefined') {\n",
       "        return WebSocket;\n",
       "    } else if (typeof(MozWebSocket) !== 'undefined') {\n",
       "        return MozWebSocket;\n",
       "    } else {\n",
       "        alert('Your browser does not have WebSocket support.' +\n",
       "              'Please try Chrome, Safari or Firefox ≥ 6. ' +\n",
       "              'Firefox 4 and 5 are also supported but you ' +\n",
       "              'have to enable WebSockets in about:config.');\n",
       "    };\n",
       "}\n",
       "\n",
       "mpl.figure = function(figure_id, websocket, ondownload, parent_element) {\n",
       "    this.id = figure_id;\n",
       "\n",
       "    this.ws = websocket;\n",
       "\n",
       "    this.supports_binary = (this.ws.binaryType != undefined);\n",
       "\n",
       "    if (!this.supports_binary) {\n",
       "        var warnings = document.getElementById(\"mpl-warnings\");\n",
       "        if (warnings) {\n",
       "            warnings.style.display = 'block';\n",
       "            warnings.textContent = (\n",
       "                \"This browser does not support binary websocket messages. \" +\n",
       "                    \"Performance may be slow.\");\n",
       "        }\n",
       "    }\n",
       "\n",
       "    this.imageObj = new Image();\n",
       "\n",
       "    this.context = undefined;\n",
       "    this.message = undefined;\n",
       "    this.canvas = undefined;\n",
       "    this.rubberband_canvas = undefined;\n",
       "    this.rubberband_context = undefined;\n",
       "    this.format_dropdown = undefined;\n",
       "\n",
       "    this.image_mode = 'full';\n",
       "\n",
       "    this.root = $('<div/>');\n",
       "    this._root_extra_style(this.root)\n",
       "    this.root.attr('style', 'display: inline-block');\n",
       "\n",
       "    $(parent_element).append(this.root);\n",
       "\n",
       "    this._init_header(this);\n",
       "    this._init_canvas(this);\n",
       "    this._init_toolbar(this);\n",
       "\n",
       "    var fig = this;\n",
       "\n",
       "    this.waiting = false;\n",
       "\n",
       "    this.ws.onopen =  function () {\n",
       "            fig.send_message(\"supports_binary\", {value: fig.supports_binary});\n",
       "            fig.send_message(\"send_image_mode\", {});\n",
       "            if (mpl.ratio != 1) {\n",
       "                fig.send_message(\"set_dpi_ratio\", {'dpi_ratio': mpl.ratio});\n",
       "            }\n",
       "            fig.send_message(\"refresh\", {});\n",
       "        }\n",
       "\n",
       "    this.imageObj.onload = function() {\n",
       "            if (fig.image_mode == 'full') {\n",
       "                // Full images could contain transparency (where diff images\n",
       "                // almost always do), so we need to clear the canvas so that\n",
       "                // there is no ghosting.\n",
       "                fig.context.clearRect(0, 0, fig.canvas.width, fig.canvas.height);\n",
       "            }\n",
       "            fig.context.drawImage(fig.imageObj, 0, 0);\n",
       "        };\n",
       "\n",
       "    this.imageObj.onunload = function() {\n",
       "        fig.ws.close();\n",
       "    }\n",
       "\n",
       "    this.ws.onmessage = this._make_on_message_function(this);\n",
       "\n",
       "    this.ondownload = ondownload;\n",
       "}\n",
       "\n",
       "mpl.figure.prototype._init_header = function() {\n",
       "    var titlebar = $(\n",
       "        '<div class=\"ui-dialog-titlebar ui-widget-header ui-corner-all ' +\n",
       "        'ui-helper-clearfix\"/>');\n",
       "    var titletext = $(\n",
       "        '<div class=\"ui-dialog-title\" style=\"width: 100%; ' +\n",
       "        'text-align: center; padding: 3px;\"/>');\n",
       "    titlebar.append(titletext)\n",
       "    this.root.append(titlebar);\n",
       "    this.header = titletext[0];\n",
       "}\n",
       "\n",
       "\n",
       "\n",
       "mpl.figure.prototype._canvas_extra_style = function(canvas_div) {\n",
       "\n",
       "}\n",
       "\n",
       "\n",
       "mpl.figure.prototype._root_extra_style = function(canvas_div) {\n",
       "\n",
       "}\n",
       "\n",
       "mpl.figure.prototype._init_canvas = function() {\n",
       "    var fig = this;\n",
       "\n",
       "    var canvas_div = $('<div/>');\n",
       "\n",
       "    canvas_div.attr('style', 'position: relative; clear: both; outline: 0');\n",
       "\n",
       "    function canvas_keyboard_event(event) {\n",
       "        return fig.key_event(event, event['data']);\n",
       "    }\n",
       "\n",
       "    canvas_div.keydown('key_press', canvas_keyboard_event);\n",
       "    canvas_div.keyup('key_release', canvas_keyboard_event);\n",
       "    this.canvas_div = canvas_div\n",
       "    this._canvas_extra_style(canvas_div)\n",
       "    this.root.append(canvas_div);\n",
       "\n",
       "    var canvas = $('<canvas/>');\n",
       "    canvas.addClass('mpl-canvas');\n",
       "    canvas.attr('style', \"left: 0; top: 0; z-index: 0; outline: 0\")\n",
       "\n",
       "    this.canvas = canvas[0];\n",
       "    this.context = canvas[0].getContext(\"2d\");\n",
       "\n",
       "    var backingStore = this.context.backingStorePixelRatio ||\n",
       "\tthis.context.webkitBackingStorePixelRatio ||\n",
       "\tthis.context.mozBackingStorePixelRatio ||\n",
       "\tthis.context.msBackingStorePixelRatio ||\n",
       "\tthis.context.oBackingStorePixelRatio ||\n",
       "\tthis.context.backingStorePixelRatio || 1;\n",
       "\n",
       "    mpl.ratio = (window.devicePixelRatio || 1) / backingStore;\n",
       "\n",
       "    var rubberband = $('<canvas/>');\n",
       "    rubberband.attr('style', \"position: absolute; left: 0; top: 0; z-index: 1;\")\n",
       "\n",
       "    var pass_mouse_events = true;\n",
       "\n",
       "    canvas_div.resizable({\n",
       "        start: function(event, ui) {\n",
       "            pass_mouse_events = false;\n",
       "        },\n",
       "        resize: function(event, ui) {\n",
       "            fig.request_resize(ui.size.width, ui.size.height);\n",
       "        },\n",
       "        stop: function(event, ui) {\n",
       "            pass_mouse_events = true;\n",
       "            fig.request_resize(ui.size.width, ui.size.height);\n",
       "        },\n",
       "    });\n",
       "\n",
       "    function mouse_event_fn(event) {\n",
       "        if (pass_mouse_events)\n",
       "            return fig.mouse_event(event, event['data']);\n",
       "    }\n",
       "\n",
       "    rubberband.mousedown('button_press', mouse_event_fn);\n",
       "    rubberband.mouseup('button_release', mouse_event_fn);\n",
       "    // Throttle sequential mouse events to 1 every 20ms.\n",
       "    rubberband.mousemove('motion_notify', mouse_event_fn);\n",
       "\n",
       "    rubberband.mouseenter('figure_enter', mouse_event_fn);\n",
       "    rubberband.mouseleave('figure_leave', mouse_event_fn);\n",
       "\n",
       "    canvas_div.on(\"wheel\", function (event) {\n",
       "        event = event.originalEvent;\n",
       "        event['data'] = 'scroll'\n",
       "        if (event.deltaY < 0) {\n",
       "            event.step = 1;\n",
       "        } else {\n",
       "            event.step = -1;\n",
       "        }\n",
       "        mouse_event_fn(event);\n",
       "    });\n",
       "\n",
       "    canvas_div.append(canvas);\n",
       "    canvas_div.append(rubberband);\n",
       "\n",
       "    this.rubberband = rubberband;\n",
       "    this.rubberband_canvas = rubberband[0];\n",
       "    this.rubberband_context = rubberband[0].getContext(\"2d\");\n",
       "    this.rubberband_context.strokeStyle = \"#000000\";\n",
       "\n",
       "    this._resize_canvas = function(width, height) {\n",
       "        // Keep the size of the canvas, canvas container, and rubber band\n",
       "        // canvas in synch.\n",
       "        canvas_div.css('width', width)\n",
       "        canvas_div.css('height', height)\n",
       "\n",
       "        canvas.attr('width', width * mpl.ratio);\n",
       "        canvas.attr('height', height * mpl.ratio);\n",
       "        canvas.attr('style', 'width: ' + width + 'px; height: ' + height + 'px;');\n",
       "\n",
       "        rubberband.attr('width', width);\n",
       "        rubberband.attr('height', height);\n",
       "    }\n",
       "\n",
       "    // Set the figure to an initial 600x600px, this will subsequently be updated\n",
       "    // upon first draw.\n",
       "    this._resize_canvas(600, 600);\n",
       "\n",
       "    // Disable right mouse context menu.\n",
       "    $(this.rubberband_canvas).bind(\"contextmenu\",function(e){\n",
       "        return false;\n",
       "    });\n",
       "\n",
       "    function set_focus () {\n",
       "        canvas.focus();\n",
       "        canvas_div.focus();\n",
       "    }\n",
       "\n",
       "    window.setTimeout(set_focus, 100);\n",
       "}\n",
       "\n",
       "mpl.figure.prototype._init_toolbar = function() {\n",
       "    var fig = this;\n",
       "\n",
       "    var nav_element = $('<div/>')\n",
       "    nav_element.attr('style', 'width: 100%');\n",
       "    this.root.append(nav_element);\n",
       "\n",
       "    // Define a callback function for later on.\n",
       "    function toolbar_event(event) {\n",
       "        return fig.toolbar_button_onclick(event['data']);\n",
       "    }\n",
       "    function toolbar_mouse_event(event) {\n",
       "        return fig.toolbar_button_onmouseover(event['data']);\n",
       "    }\n",
       "\n",
       "    for(var toolbar_ind in mpl.toolbar_items) {\n",
       "        var name = mpl.toolbar_items[toolbar_ind][0];\n",
       "        var tooltip = mpl.toolbar_items[toolbar_ind][1];\n",
       "        var image = mpl.toolbar_items[toolbar_ind][2];\n",
       "        var method_name = mpl.toolbar_items[toolbar_ind][3];\n",
       "\n",
       "        if (!name) {\n",
       "            // put a spacer in here.\n",
       "            continue;\n",
       "        }\n",
       "        var button = $('<button/>');\n",
       "        button.addClass('ui-button ui-widget ui-state-default ui-corner-all ' +\n",
       "                        'ui-button-icon-only');\n",
       "        button.attr('role', 'button');\n",
       "        button.attr('aria-disabled', 'false');\n",
       "        button.click(method_name, toolbar_event);\n",
       "        button.mouseover(tooltip, toolbar_mouse_event);\n",
       "\n",
       "        var icon_img = $('<span/>');\n",
       "        icon_img.addClass('ui-button-icon-primary ui-icon');\n",
       "        icon_img.addClass(image);\n",
       "        icon_img.addClass('ui-corner-all');\n",
       "\n",
       "        var tooltip_span = $('<span/>');\n",
       "        tooltip_span.addClass('ui-button-text');\n",
       "        tooltip_span.html(tooltip);\n",
       "\n",
       "        button.append(icon_img);\n",
       "        button.append(tooltip_span);\n",
       "\n",
       "        nav_element.append(button);\n",
       "    }\n",
       "\n",
       "    var fmt_picker_span = $('<span/>');\n",
       "\n",
       "    var fmt_picker = $('<select/>');\n",
       "    fmt_picker.addClass('mpl-toolbar-option ui-widget ui-widget-content');\n",
       "    fmt_picker_span.append(fmt_picker);\n",
       "    nav_element.append(fmt_picker_span);\n",
       "    this.format_dropdown = fmt_picker[0];\n",
       "\n",
       "    for (var ind in mpl.extensions) {\n",
       "        var fmt = mpl.extensions[ind];\n",
       "        var option = $(\n",
       "            '<option/>', {selected: fmt === mpl.default_extension}).html(fmt);\n",
       "        fmt_picker.append(option)\n",
       "    }\n",
       "\n",
       "    // Add hover states to the ui-buttons\n",
       "    $( \".ui-button\" ).hover(\n",
       "        function() { $(this).addClass(\"ui-state-hover\");},\n",
       "        function() { $(this).removeClass(\"ui-state-hover\");}\n",
       "    );\n",
       "\n",
       "    var status_bar = $('<span class=\"mpl-message\"/>');\n",
       "    nav_element.append(status_bar);\n",
       "    this.message = status_bar[0];\n",
       "}\n",
       "\n",
       "mpl.figure.prototype.request_resize = function(x_pixels, y_pixels) {\n",
       "    // Request matplotlib to resize the figure. Matplotlib will then trigger a resize in the client,\n",
       "    // which will in turn request a refresh of the image.\n",
       "    this.send_message('resize', {'width': x_pixels, 'height': y_pixels});\n",
       "}\n",
       "\n",
       "mpl.figure.prototype.send_message = function(type, properties) {\n",
       "    properties['type'] = type;\n",
       "    properties['figure_id'] = this.id;\n",
       "    this.ws.send(JSON.stringify(properties));\n",
       "}\n",
       "\n",
       "mpl.figure.prototype.send_draw_message = function() {\n",
       "    if (!this.waiting) {\n",
       "        this.waiting = true;\n",
       "        this.ws.send(JSON.stringify({type: \"draw\", figure_id: this.id}));\n",
       "    }\n",
       "}\n",
       "\n",
       "\n",
       "mpl.figure.prototype.handle_save = function(fig, msg) {\n",
       "    var format_dropdown = fig.format_dropdown;\n",
       "    var format = format_dropdown.options[format_dropdown.selectedIndex].value;\n",
       "    fig.ondownload(fig, format);\n",
       "}\n",
       "\n",
       "\n",
       "mpl.figure.prototype.handle_resize = function(fig, msg) {\n",
       "    var size = msg['size'];\n",
       "    if (size[0] != fig.canvas.width || size[1] != fig.canvas.height) {\n",
       "        fig._resize_canvas(size[0], size[1]);\n",
       "        fig.send_message(\"refresh\", {});\n",
       "    };\n",
       "}\n",
       "\n",
       "mpl.figure.prototype.handle_rubberband = function(fig, msg) {\n",
       "    var x0 = msg['x0'] / mpl.ratio;\n",
       "    var y0 = (fig.canvas.height - msg['y0']) / mpl.ratio;\n",
       "    var x1 = msg['x1'] / mpl.ratio;\n",
       "    var y1 = (fig.canvas.height - msg['y1']) / mpl.ratio;\n",
       "    x0 = Math.floor(x0) + 0.5;\n",
       "    y0 = Math.floor(y0) + 0.5;\n",
       "    x1 = Math.floor(x1) + 0.5;\n",
       "    y1 = Math.floor(y1) + 0.5;\n",
       "    var min_x = Math.min(x0, x1);\n",
       "    var min_y = Math.min(y0, y1);\n",
       "    var width = Math.abs(x1 - x0);\n",
       "    var height = Math.abs(y1 - y0);\n",
       "\n",
       "    fig.rubberband_context.clearRect(\n",
       "        0, 0, fig.canvas.width, fig.canvas.height);\n",
       "\n",
       "    fig.rubberband_context.strokeRect(min_x, min_y, width, height);\n",
       "}\n",
       "\n",
       "mpl.figure.prototype.handle_figure_label = function(fig, msg) {\n",
       "    // Updates the figure title.\n",
       "    fig.header.textContent = msg['label'];\n",
       "}\n",
       "\n",
       "mpl.figure.prototype.handle_cursor = function(fig, msg) {\n",
       "    var cursor = msg['cursor'];\n",
       "    switch(cursor)\n",
       "    {\n",
       "    case 0:\n",
       "        cursor = 'pointer';\n",
       "        break;\n",
       "    case 1:\n",
       "        cursor = 'default';\n",
       "        break;\n",
       "    case 2:\n",
       "        cursor = 'crosshair';\n",
       "        break;\n",
       "    case 3:\n",
       "        cursor = 'move';\n",
       "        break;\n",
       "    }\n",
       "    fig.rubberband_canvas.style.cursor = cursor;\n",
       "}\n",
       "\n",
       "mpl.figure.prototype.handle_message = function(fig, msg) {\n",
       "    fig.message.textContent = msg['message'];\n",
       "}\n",
       "\n",
       "mpl.figure.prototype.handle_draw = function(fig, msg) {\n",
       "    // Request the server to send over a new figure.\n",
       "    fig.send_draw_message();\n",
       "}\n",
       "\n",
       "mpl.figure.prototype.handle_image_mode = function(fig, msg) {\n",
       "    fig.image_mode = msg['mode'];\n",
       "}\n",
       "\n",
       "mpl.figure.prototype.updated_canvas_event = function() {\n",
       "    // Called whenever the canvas gets updated.\n",
       "    this.send_message(\"ack\", {});\n",
       "}\n",
       "\n",
       "// A function to construct a web socket function for onmessage handling.\n",
       "// Called in the figure constructor.\n",
       "mpl.figure.prototype._make_on_message_function = function(fig) {\n",
       "    return function socket_on_message(evt) {\n",
       "        if (evt.data instanceof Blob) {\n",
       "            /* FIXME: We get \"Resource interpreted as Image but\n",
       "             * transferred with MIME type text/plain:\" errors on\n",
       "             * Chrome.  But how to set the MIME type?  It doesn't seem\n",
       "             * to be part of the websocket stream */\n",
       "            evt.data.type = \"image/png\";\n",
       "\n",
       "            /* Free the memory for the previous frames */\n",
       "            if (fig.imageObj.src) {\n",
       "                (window.URL || window.webkitURL).revokeObjectURL(\n",
       "                    fig.imageObj.src);\n",
       "            }\n",
       "\n",
       "            fig.imageObj.src = (window.URL || window.webkitURL).createObjectURL(\n",
       "                evt.data);\n",
       "            fig.updated_canvas_event();\n",
       "            fig.waiting = false;\n",
       "            return;\n",
       "        }\n",
       "        else if (typeof evt.data === 'string' && evt.data.slice(0, 21) == \"data:image/png;base64\") {\n",
       "            fig.imageObj.src = evt.data;\n",
       "            fig.updated_canvas_event();\n",
       "            fig.waiting = false;\n",
       "            return;\n",
       "        }\n",
       "\n",
       "        var msg = JSON.parse(evt.data);\n",
       "        var msg_type = msg['type'];\n",
       "\n",
       "        // Call the  \"handle_{type}\" callback, which takes\n",
       "        // the figure and JSON message as its only arguments.\n",
       "        try {\n",
       "            var callback = fig[\"handle_\" + msg_type];\n",
       "        } catch (e) {\n",
       "            console.log(\"No handler for the '\" + msg_type + \"' message type: \", msg);\n",
       "            return;\n",
       "        }\n",
       "\n",
       "        if (callback) {\n",
       "            try {\n",
       "                // console.log(\"Handling '\" + msg_type + \"' message: \", msg);\n",
       "                callback(fig, msg);\n",
       "            } catch (e) {\n",
       "                console.log(\"Exception inside the 'handler_\" + msg_type + \"' callback:\", e, e.stack, msg);\n",
       "            }\n",
       "        }\n",
       "    };\n",
       "}\n",
       "\n",
       "// from http://stackoverflow.com/questions/1114465/getting-mouse-location-in-canvas\n",
       "mpl.findpos = function(e) {\n",
       "    //this section is from http://www.quirksmode.org/js/events_properties.html\n",
       "    var targ;\n",
       "    if (!e)\n",
       "        e = window.event;\n",
       "    if (e.target)\n",
       "        targ = e.target;\n",
       "    else if (e.srcElement)\n",
       "        targ = e.srcElement;\n",
       "    if (targ.nodeType == 3) // defeat Safari bug\n",
       "        targ = targ.parentNode;\n",
       "\n",
       "    // jQuery normalizes the pageX and pageY\n",
       "    // pageX,Y are the mouse positions relative to the document\n",
       "    // offset() returns the position of the element relative to the document\n",
       "    var x = e.pageX - $(targ).offset().left;\n",
       "    var y = e.pageY - $(targ).offset().top;\n",
       "\n",
       "    return {\"x\": x, \"y\": y};\n",
       "};\n",
       "\n",
       "/*\n",
       " * return a copy of an object with only non-object keys\n",
       " * we need this to avoid circular references\n",
       " * http://stackoverflow.com/a/24161582/3208463\n",
       " */\n",
       "function simpleKeys (original) {\n",
       "  return Object.keys(original).reduce(function (obj, key) {\n",
       "    if (typeof original[key] !== 'object')\n",
       "        obj[key] = original[key]\n",
       "    return obj;\n",
       "  }, {});\n",
       "}\n",
       "\n",
       "mpl.figure.prototype.mouse_event = function(event, name) {\n",
       "    var canvas_pos = mpl.findpos(event)\n",
       "\n",
       "    if (name === 'button_press')\n",
       "    {\n",
       "        this.canvas.focus();\n",
       "        this.canvas_div.focus();\n",
       "    }\n",
       "\n",
       "    var x = canvas_pos.x * mpl.ratio;\n",
       "    var y = canvas_pos.y * mpl.ratio;\n",
       "\n",
       "    this.send_message(name, {x: x, y: y, button: event.button,\n",
       "                             step: event.step,\n",
       "                             guiEvent: simpleKeys(event)});\n",
       "\n",
       "    /* This prevents the web browser from automatically changing to\n",
       "     * the text insertion cursor when the button is pressed.  We want\n",
       "     * to control all of the cursor setting manually through the\n",
       "     * 'cursor' event from matplotlib */\n",
       "    event.preventDefault();\n",
       "    return false;\n",
       "}\n",
       "\n",
       "mpl.figure.prototype._key_event_extra = function(event, name) {\n",
       "    // Handle any extra behaviour associated with a key event\n",
       "}\n",
       "\n",
       "mpl.figure.prototype.key_event = function(event, name) {\n",
       "\n",
       "    // Prevent repeat events\n",
       "    if (name == 'key_press')\n",
       "    {\n",
       "        if (event.which === this._key)\n",
       "            return;\n",
       "        else\n",
       "            this._key = event.which;\n",
       "    }\n",
       "    if (name == 'key_release')\n",
       "        this._key = null;\n",
       "\n",
       "    var value = '';\n",
       "    if (event.ctrlKey && event.which != 17)\n",
       "        value += \"ctrl+\";\n",
       "    if (event.altKey && event.which != 18)\n",
       "        value += \"alt+\";\n",
       "    if (event.shiftKey && event.which != 16)\n",
       "        value += \"shift+\";\n",
       "\n",
       "    value += 'k';\n",
       "    value += event.which.toString();\n",
       "\n",
       "    this._key_event_extra(event, name);\n",
       "\n",
       "    this.send_message(name, {key: value,\n",
       "                             guiEvent: simpleKeys(event)});\n",
       "    return false;\n",
       "}\n",
       "\n",
       "mpl.figure.prototype.toolbar_button_onclick = function(name) {\n",
       "    if (name == 'download') {\n",
       "        this.handle_save(this, null);\n",
       "    } else {\n",
       "        this.send_message(\"toolbar_button\", {name: name});\n",
       "    }\n",
       "};\n",
       "\n",
       "mpl.figure.prototype.toolbar_button_onmouseover = function(tooltip) {\n",
       "    this.message.textContent = tooltip;\n",
       "};\n",
       "mpl.toolbar_items = [[\"Home\", \"Reset original view\", \"fa fa-home icon-home\", \"home\"], [\"Back\", \"Back to  previous view\", \"fa fa-arrow-left icon-arrow-left\", \"back\"], [\"Forward\", \"Forward to next view\", \"fa fa-arrow-right icon-arrow-right\", \"forward\"], [\"\", \"\", \"\", \"\"], [\"Pan\", \"Pan axes with left mouse, zoom with right\", \"fa fa-arrows icon-move\", \"pan\"], [\"Zoom\", \"Zoom to rectangle\", \"fa fa-square-o icon-check-empty\", \"zoom\"], [\"\", \"\", \"\", \"\"], [\"Download\", \"Download plot\", \"fa fa-floppy-o icon-save\", \"download\"]];\n",
       "\n",
       "mpl.extensions = [\"eps\", \"jpeg\", \"pdf\", \"png\", \"ps\", \"raw\", \"svg\", \"tif\"];\n",
       "\n",
       "mpl.default_extension = \"png\";var comm_websocket_adapter = function(comm) {\n",
       "    // Create a \"websocket\"-like object which calls the given IPython comm\n",
       "    // object with the appropriate methods. Currently this is a non binary\n",
       "    // socket, so there is still some room for performance tuning.\n",
       "    var ws = {};\n",
       "\n",
       "    ws.close = function() {\n",
       "        comm.close()\n",
       "    };\n",
       "    ws.send = function(m) {\n",
       "        //console.log('sending', m);\n",
       "        comm.send(m);\n",
       "    };\n",
       "    // Register the callback with on_msg.\n",
       "    comm.on_msg(function(msg) {\n",
       "        //console.log('receiving', msg['content']['data'], msg);\n",
       "        // Pass the mpl event to the overriden (by mpl) onmessage function.\n",
       "        ws.onmessage(msg['content']['data'])\n",
       "    });\n",
       "    return ws;\n",
       "}\n",
       "\n",
       "mpl.mpl_figure_comm = function(comm, msg) {\n",
       "    // This is the function which gets called when the mpl process\n",
       "    // starts-up an IPython Comm through the \"matplotlib\" channel.\n",
       "\n",
       "    var id = msg.content.data.id;\n",
       "    // Get hold of the div created by the display call when the Comm\n",
       "    // socket was opened in Python.\n",
       "    var element = $(\"#\" + id);\n",
       "    var ws_proxy = comm_websocket_adapter(comm)\n",
       "\n",
       "    function ondownload(figure, format) {\n",
       "        window.open(figure.imageObj.src);\n",
       "    }\n",
       "\n",
       "    var fig = new mpl.figure(id, ws_proxy,\n",
       "                           ondownload,\n",
       "                           element.get(0));\n",
       "\n",
       "    // Call onopen now - mpl needs it, as it is assuming we've passed it a real\n",
       "    // web socket which is closed, not our websocket->open comm proxy.\n",
       "    ws_proxy.onopen();\n",
       "\n",
       "    fig.parent_element = element.get(0);\n",
       "    fig.cell_info = mpl.find_output_cell(\"<div id='\" + id + \"'></div>\");\n",
       "    if (!fig.cell_info) {\n",
       "        console.error(\"Failed to find cell for figure\", id, fig);\n",
       "        return;\n",
       "    }\n",
       "\n",
       "    var output_index = fig.cell_info[2]\n",
       "    var cell = fig.cell_info[0];\n",
       "\n",
       "};\n",
       "\n",
       "mpl.figure.prototype.handle_close = function(fig, msg) {\n",
       "    var width = fig.canvas.width/mpl.ratio\n",
       "    fig.root.unbind('remove')\n",
       "\n",
       "    // Update the output cell to use the data from the current canvas.\n",
       "    fig.push_to_output();\n",
       "    var dataURL = fig.canvas.toDataURL();\n",
       "    // Re-enable the keyboard manager in IPython - without this line, in FF,\n",
       "    // the notebook keyboard shortcuts fail.\n",
       "    IPython.keyboard_manager.enable()\n",
       "    $(fig.parent_element).html('<img src=\"' + dataURL + '\" width=\"' + width + '\">');\n",
       "    fig.close_ws(fig, msg);\n",
       "}\n",
       "\n",
       "mpl.figure.prototype.close_ws = function(fig, msg){\n",
       "    fig.send_message('closing', msg);\n",
       "    // fig.ws.close()\n",
       "}\n",
       "\n",
       "mpl.figure.prototype.push_to_output = function(remove_interactive) {\n",
       "    // Turn the data on the canvas into data in the output cell.\n",
       "    var width = this.canvas.width/mpl.ratio\n",
       "    var dataURL = this.canvas.toDataURL();\n",
       "    this.cell_info[1]['text/html'] = '<img src=\"' + dataURL + '\" width=\"' + width + '\">';\n",
       "}\n",
       "\n",
       "mpl.figure.prototype.updated_canvas_event = function() {\n",
       "    // Tell IPython that the notebook contents must change.\n",
       "    IPython.notebook.set_dirty(true);\n",
       "    this.send_message(\"ack\", {});\n",
       "    var fig = this;\n",
       "    // Wait a second, then push the new image to the DOM so\n",
       "    // that it is saved nicely (might be nice to debounce this).\n",
       "    setTimeout(function () { fig.push_to_output() }, 1000);\n",
       "}\n",
       "\n",
       "mpl.figure.prototype._init_toolbar = function() {\n",
       "    var fig = this;\n",
       "\n",
       "    var nav_element = $('<div/>')\n",
       "    nav_element.attr('style', 'width: 100%');\n",
       "    this.root.append(nav_element);\n",
       "\n",
       "    // Define a callback function for later on.\n",
       "    function toolbar_event(event) {\n",
       "        return fig.toolbar_button_onclick(event['data']);\n",
       "    }\n",
       "    function toolbar_mouse_event(event) {\n",
       "        return fig.toolbar_button_onmouseover(event['data']);\n",
       "    }\n",
       "\n",
       "    for(var toolbar_ind in mpl.toolbar_items){\n",
       "        var name = mpl.toolbar_items[toolbar_ind][0];\n",
       "        var tooltip = mpl.toolbar_items[toolbar_ind][1];\n",
       "        var image = mpl.toolbar_items[toolbar_ind][2];\n",
       "        var method_name = mpl.toolbar_items[toolbar_ind][3];\n",
       "\n",
       "        if (!name) { continue; };\n",
       "\n",
       "        var button = $('<button class=\"btn btn-default\" href=\"#\" title=\"' + name + '\"><i class=\"fa ' + image + ' fa-lg\"></i></button>');\n",
       "        button.click(method_name, toolbar_event);\n",
       "        button.mouseover(tooltip, toolbar_mouse_event);\n",
       "        nav_element.append(button);\n",
       "    }\n",
       "\n",
       "    // Add the status bar.\n",
       "    var status_bar = $('<span class=\"mpl-message\" style=\"text-align:right; float: right;\"/>');\n",
       "    nav_element.append(status_bar);\n",
       "    this.message = status_bar[0];\n",
       "\n",
       "    // Add the close button to the window.\n",
       "    var buttongrp = $('<div class=\"btn-group inline pull-right\"></div>');\n",
       "    var button = $('<button class=\"btn btn-mini btn-primary\" href=\"#\" title=\"Stop Interaction\"><i class=\"fa fa-power-off icon-remove icon-large\"></i></button>');\n",
       "    button.click(function (evt) { fig.handle_close(fig, {}); } );\n",
       "    button.mouseover('Stop Interaction', toolbar_mouse_event);\n",
       "    buttongrp.append(button);\n",
       "    var titlebar = this.root.find($('.ui-dialog-titlebar'));\n",
       "    titlebar.prepend(buttongrp);\n",
       "}\n",
       "\n",
       "mpl.figure.prototype._root_extra_style = function(el){\n",
       "    var fig = this\n",
       "    el.on(\"remove\", function(){\n",
       "\tfig.close_ws(fig, {});\n",
       "    });\n",
       "}\n",
       "\n",
       "mpl.figure.prototype._canvas_extra_style = function(el){\n",
       "    // this is important to make the div 'focusable\n",
       "    el.attr('tabindex', 0)\n",
       "    // reach out to IPython and tell the keyboard manager to turn it's self\n",
       "    // off when our div gets focus\n",
       "\n",
       "    // location in version 3\n",
       "    if (IPython.notebook.keyboard_manager) {\n",
       "        IPython.notebook.keyboard_manager.register_events(el);\n",
       "    }\n",
       "    else {\n",
       "        // location in version 2\n",
       "        IPython.keyboard_manager.register_events(el);\n",
       "    }\n",
       "\n",
       "}\n",
       "\n",
       "mpl.figure.prototype._key_event_extra = function(event, name) {\n",
       "    var manager = IPython.notebook.keyboard_manager;\n",
       "    if (!manager)\n",
       "        manager = IPython.keyboard_manager;\n",
       "\n",
       "    // Check for shift+enter\n",
       "    if (event.shiftKey && event.which == 13) {\n",
       "        this.canvas_div.blur();\n",
       "        event.shiftKey = false;\n",
       "        // Send a \"J\" for go to next cell\n",
       "        event.which = 74;\n",
       "        event.keyCode = 74;\n",
       "        manager.command_mode();\n",
       "        manager.handle_keydown(event);\n",
       "    }\n",
       "}\n",
       "\n",
       "mpl.figure.prototype.handle_save = function(fig, msg) {\n",
       "    fig.ondownload(fig, null);\n",
       "}\n",
       "\n",
       "\n",
       "mpl.find_output_cell = function(html_output) {\n",
       "    // Return the cell and output element which can be found *uniquely* in the notebook.\n",
       "    // Note - this is a bit hacky, but it is done because the \"notebook_saving.Notebook\"\n",
       "    // IPython event is triggered only after the cells have been serialised, which for\n",
       "    // our purposes (turning an active figure into a static one), is too late.\n",
       "    var cells = IPython.notebook.get_cells();\n",
       "    var ncells = cells.length;\n",
       "    for (var i=0; i<ncells; i++) {\n",
       "        var cell = cells[i];\n",
       "        if (cell.cell_type === 'code'){\n",
       "            for (var j=0; j<cell.output_area.outputs.length; j++) {\n",
       "                var data = cell.output_area.outputs[j];\n",
       "                if (data.data) {\n",
       "                    // IPython >= 3 moved mimebundle to data attribute of output\n",
       "                    data = data.data;\n",
       "                }\n",
       "                if (data['text/html'] == html_output) {\n",
       "                    return [cell, data, j];\n",
       "                }\n",
       "            }\n",
       "        }\n",
       "    }\n",
       "}\n",
       "\n",
       "// Register the function which deals with the matplotlib target/channel.\n",
       "// The kernel may be null if the page has been refreshed.\n",
       "if (IPython.notebook.kernel != null) {\n",
       "    IPython.notebook.kernel.comm_manager.register_target('matplotlib', mpl.mpl_figure_comm);\n",
       "}\n"
      ],
      "text/plain": [
       "<IPython.core.display.Javascript object>"
      ]
     },
     "metadata": {},
     "output_type": "display_data"
    },
    {
     "data": {
      "text/html": [
       "<img src=\"data:image/png;base64,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\" width=\"640\">"
      ],
      "text/plain": [
       "<IPython.core.display.HTML object>"
      ]
     },
     "metadata": {},
     "output_type": "display_data"
    },
    {
     "data": {
      "text/plain": [
       "Text(0,0.5,'Occurrence')"
      ]
     },
     "execution_count": 201,
     "metadata": {},
     "output_type": "execute_result"
    }
   ],
   "source": [
    "# plot years to see the distribution\n",
    "fig, ax = plt.subplots()\n",
    "model_df['year'].hist(ax=ax, bins=100)\n",
    "ax.tick_params(labelsize=14)\n",
    "ax.set_xlabel('Year Count', fontsize=14)\n",
    "ax.set_ylabel('Occurrence', fontsize=14)"
   ]
  },
  {
   "cell_type": "markdown",
   "metadata": {},
   "source": [
    "We can see from the uneven distribution that this is an excellent candidate for binning and dummy coding. Lucky for us, pandas can do all these things using built-in functions. Our results will be easy to interpret."
   ]
  },
  {
   "cell_type": "markdown",
   "metadata": {},
   "source": [
    "## years: binning + One-Hot Encoding"
   ]
  },
  {
   "cell_type": "code",
   "execution_count": 304,
   "metadata": {},
   "outputs": [
    {
     "data": {
      "text/plain": [
       "186"
      ]
     },
     "execution_count": 304,
     "metadata": {},
     "output_type": "execute_result"
    }
   ],
   "source": [
    "model_df['year'].max() - model_df['year'].min()"
   ]
  },
  {
   "cell_type": "code",
   "execution_count": 305,
   "metadata": {
    "collapsed": true
   },
   "outputs": [],
   "source": [
    "# insert binning here (by 10 years)\n",
    "bins = int(round((model_df['year'].max() - model_df['year'].min()) / 10))\n",
    "\n",
    "temp_df = pd.DataFrame(index = model_df.index)\n",
    "temp_df['yearBinned'] = pd.cut(model_df['year'].tolist(), bins, precision = 0)"
   ]
  },
  {
   "cell_type": "code",
   "execution_count": 309,
   "metadata": {},
   "outputs": [
    {
     "name": "stdout",
     "output_type": "stream",
     "text": [
      "We have reduced from 137 to 19 features representing the year.\n"
     ]
    }
   ],
   "source": [
    "# now we only have as many bins as we created(grouping together by 10 years)\n",
    "print('We have reduced from', len(model_df['year'].unique()),\n",
    "      'to', len(temp_df['yearBinned'].values.unique()), 'features representing the year.')"
   ]
  },
  {
   "cell_type": "code",
   "execution_count": 314,
   "metadata": {},
   "outputs": [
    {
     "data": {
      "text/html": [
       "<div>\n",
       "<style>\n",
       "    .dataframe thead tr:only-child th {\n",
       "        text-align: right;\n",
       "    }\n",
       "\n",
       "    .dataframe thead th {\n",
       "        text-align: left;\n",
       "    }\n",
       "\n",
       "    .dataframe tbody tr th {\n",
       "        vertical-align: top;\n",
       "    }\n",
       "</style>\n",
       "<table border=\"1\" class=\"dataframe\">\n",
       "  <thead>\n",
       "    <tr style=\"text-align: right;\">\n",
       "      <th></th>\n",
       "      <th>(1831.0, 1841.0]</th>\n",
       "      <th>(1841.0, 1851.0]</th>\n",
       "      <th>(1851.0, 1860.0]</th>\n",
       "      <th>(1860.0, 1870.0]</th>\n",
       "      <th>(1870.0, 1880.0]</th>\n",
       "      <th>(1880.0, 1890.0]</th>\n",
       "      <th>(1890.0, 1900.0]</th>\n",
       "      <th>(1900.0, 1909.0]</th>\n",
       "      <th>(1909.0, 1919.0]</th>\n",
       "      <th>(1919.0, 1929.0]</th>\n",
       "      <th>(1929.0, 1939.0]</th>\n",
       "      <th>(1939.0, 1948.0]</th>\n",
       "      <th>(1948.0, 1958.0]</th>\n",
       "      <th>(1958.0, 1968.0]</th>\n",
       "      <th>(1968.0, 1978.0]</th>\n",
       "      <th>(1978.0, 1988.0]</th>\n",
       "      <th>(1988.0, 1997.0]</th>\n",
       "      <th>(1997.0, 2007.0]</th>\n",
       "      <th>(2007.0, 2017.0]</th>\n",
       "    </tr>\n",
       "  </thead>\n",
       "  <tbody>\n",
       "    <tr>\n",
       "      <th>0</th>\n",
       "      <td>0</td>\n",
       "      <td>0</td>\n",
       "      <td>0</td>\n",
       "      <td>0</td>\n",
       "      <td>0</td>\n",
       "      <td>0</td>\n",
       "      <td>0</td>\n",
       "      <td>0</td>\n",
       "      <td>0</td>\n",
       "      <td>0</td>\n",
       "      <td>0</td>\n",
       "      <td>0</td>\n",
       "      <td>0</td>\n",
       "      <td>0</td>\n",
       "      <td>0</td>\n",
       "      <td>0</td>\n",
       "      <td>0</td>\n",
       "      <td>0</td>\n",
       "      <td>1</td>\n",
       "    </tr>\n",
       "    <tr>\n",
       "      <th>1</th>\n",
       "      <td>0</td>\n",
       "      <td>0</td>\n",
       "      <td>0</td>\n",
       "      <td>0</td>\n",
       "      <td>0</td>\n",
       "      <td>0</td>\n",
       "      <td>0</td>\n",
       "      <td>0</td>\n",
       "      <td>0</td>\n",
       "      <td>0</td>\n",
       "      <td>0</td>\n",
       "      <td>0</td>\n",
       "      <td>0</td>\n",
       "      <td>0</td>\n",
       "      <td>0</td>\n",
       "      <td>0</td>\n",
       "      <td>0</td>\n",
       "      <td>0</td>\n",
       "      <td>1</td>\n",
       "    </tr>\n",
       "    <tr>\n",
       "      <th>2</th>\n",
       "      <td>0</td>\n",
       "      <td>0</td>\n",
       "      <td>0</td>\n",
       "      <td>0</td>\n",
       "      <td>0</td>\n",
       "      <td>0</td>\n",
       "      <td>0</td>\n",
       "      <td>0</td>\n",
       "      <td>0</td>\n",
       "      <td>0</td>\n",
       "      <td>0</td>\n",
       "      <td>0</td>\n",
       "      <td>0</td>\n",
       "      <td>0</td>\n",
       "      <td>0</td>\n",
       "      <td>0</td>\n",
       "      <td>0</td>\n",
       "      <td>0</td>\n",
       "      <td>1</td>\n",
       "    </tr>\n",
       "    <tr>\n",
       "      <th>5</th>\n",
       "      <td>0</td>\n",
       "      <td>0</td>\n",
       "      <td>0</td>\n",
       "      <td>0</td>\n",
       "      <td>0</td>\n",
       "      <td>0</td>\n",
       "      <td>0</td>\n",
       "      <td>0</td>\n",
       "      <td>0</td>\n",
       "      <td>0</td>\n",
       "      <td>0</td>\n",
       "      <td>0</td>\n",
       "      <td>0</td>\n",
       "      <td>1</td>\n",
       "      <td>0</td>\n",
       "      <td>0</td>\n",
       "      <td>0</td>\n",
       "      <td>0</td>\n",
       "      <td>0</td>\n",
       "    </tr>\n",
       "    <tr>\n",
       "      <th>7</th>\n",
       "      <td>0</td>\n",
       "      <td>0</td>\n",
       "      <td>0</td>\n",
       "      <td>0</td>\n",
       "      <td>0</td>\n",
       "      <td>0</td>\n",
       "      <td>0</td>\n",
       "      <td>0</td>\n",
       "      <td>0</td>\n",
       "      <td>0</td>\n",
       "      <td>0</td>\n",
       "      <td>0</td>\n",
       "      <td>0</td>\n",
       "      <td>0</td>\n",
       "      <td>1</td>\n",
       "      <td>0</td>\n",
       "      <td>0</td>\n",
       "      <td>0</td>\n",
       "      <td>0</td>\n",
       "    </tr>\n",
       "  </tbody>\n",
       "</table>\n",
       "</div>"
      ],
      "text/plain": [
       "   (1831.0, 1841.0]  (1841.0, 1851.0]  (1851.0, 1860.0]  (1860.0, 1870.0]  \\\n",
       "0                 0                 0                 0                 0   \n",
       "1                 0                 0                 0                 0   \n",
       "2                 0                 0                 0                 0   \n",
       "5                 0                 0                 0                 0   \n",
       "7                 0                 0                 0                 0   \n",
       "\n",
       "   (1870.0, 1880.0]  (1880.0, 1890.0]  (1890.0, 1900.0]  (1900.0, 1909.0]  \\\n",
       "0                 0                 0                 0                 0   \n",
       "1                 0                 0                 0                 0   \n",
       "2                 0                 0                 0                 0   \n",
       "5                 0                 0                 0                 0   \n",
       "7                 0                 0                 0                 0   \n",
       "\n",
       "   (1909.0, 1919.0]  (1919.0, 1929.0]  (1929.0, 1939.0]  (1939.0, 1948.0]  \\\n",
       "0                 0                 0                 0                 0   \n",
       "1                 0                 0                 0                 0   \n",
       "2                 0                 0                 0                 0   \n",
       "5                 0                 0                 0                 0   \n",
       "7                 0                 0                 0                 0   \n",
       "\n",
       "   (1948.0, 1958.0]  (1958.0, 1968.0]  (1968.0, 1978.0]  (1978.0, 1988.0]  \\\n",
       "0                 0                 0                 0                 0   \n",
       "1                 0                 0                 0                 0   \n",
       "2                 0                 0                 0                 0   \n",
       "5                 0                 1                 0                 0   \n",
       "7                 0                 0                 1                 0   \n",
       "\n",
       "   (1988.0, 1997.0]  (1997.0, 2007.0]  (2007.0, 2017.0]  \n",
       "0                 0                 0                 1  \n",
       "1                 0                 0                 1  \n",
       "2                 0                 0                 1  \n",
       "5                 0                 0                 0  \n",
       "7                 0                 0                 0  "
      ]
     },
     "execution_count": 314,
     "metadata": {},
     "output_type": "execute_result"
    }
   ],
   "source": [
    "new_df = pd.get_dummies(temp_df['yearBinned'])\n",
    "new_df.head()"
   ]
  },
  {
   "cell_type": "code",
   "execution_count": 3,
   "metadata": {
    "collapsed": true
   },
   "outputs": [],
   "source": [
    "#TODO >> PLOT NEW BIN HIST"
   ]
  },
  {
   "cell_type": "markdown",
   "metadata": {
    "collapsed": true
   },
   "source": [
    "## TODO >> fields of study: Feature Hashing?"
   ]
  },
  {
   "cell_type": "markdown",
   "metadata": {},
   "source": [
    "NOTE: I don't know that Feature Hashing is the best method here. I'm really looking for reduction in features. Maybe some clustering or binning?"
   ]
  },
  {
   "cell_type": "code",
   "execution_count": 347,
   "metadata": {
    "collapsed": true
   },
   "outputs": [],
   "source": [
    "# need to fill in \"NaN\" for sklearn\n",
    "fos_df = model_df.fillna('None')"
   ]
  },
  {
   "cell_type": "code",
   "execution_count": 348,
   "metadata": {},
   "outputs": [
    {
     "data": {
      "text/plain": [
       "0    [Electronic engineering, Computer hardware, En...\n",
       "1        [Biology, Virology, Immunology, Microbiology]\n",
       "2                                                 None\n",
       "5                                                 None\n",
       "7           [Medicine, Pathology, Gynecology, Surgery]\n",
       "Name: fos, dtype: object"
      ]
     },
     "execution_count": 348,
     "metadata": {},
     "output_type": "execute_result"
    }
   ],
   "source": [
    "fos_df['fos'].head()"
   ]
  },
  {
   "cell_type": "markdown",
   "metadata": {},
   "source": [
    "Let's leverage work we have already done. We have a sparse array of parsed field of study fields. The names for the feature space take up the most room. We'll pare this down by taking advantage of sklearn's FeatureHasher."
   ]
  },
  {
   "cell_type": "code",
   "execution_count": 356,
   "metadata": {},
   "outputs": [
    {
     "data": {
      "text/html": [
       "<div>\n",
       "<style>\n",
       "    .dataframe thead tr:only-child th {\n",
       "        text-align: right;\n",
       "    }\n",
       "\n",
       "    .dataframe thead th {\n",
       "        text-align: left;\n",
       "    }\n",
       "\n",
       "    .dataframe tbody tr th {\n",
       "        vertical-align: top;\n",
       "    }\n",
       "</style>\n",
       "<table border=\"1\" class=\"dataframe\">\n",
       "  <thead>\n",
       "    <tr style=\"text-align: right;\">\n",
       "      <th></th>\n",
       "      <th>fos_0</th>\n",
       "      <th>fos_1/N expansion</th>\n",
       "      <th>fos_10G-PON</th>\n",
       "      <th>fos_3D radar</th>\n",
       "      <th>fos_3D single-object recognition</th>\n",
       "      <th>fos_3G MIMO</th>\n",
       "      <th>fos_40-bit encryption</th>\n",
       "      <th>fos_56-bit encryption</th>\n",
       "      <th>fos_78xx</th>\n",
       "      <th>fos_ANK1</th>\n",
       "      <th>...</th>\n",
       "      <th>fos_hosts</th>\n",
       "      <th>fos_k-minimum spanning tree</th>\n",
       "      <th>fos_k-nearest neighbors algorithm</th>\n",
       "      <th>fos_m-derived filter</th>\n",
       "      <th>fos_microRNA</th>\n",
       "      <th>fos_pH</th>\n",
       "      <th>fos_photoperiodism</th>\n",
       "      <th>fos_route</th>\n",
       "      <th>fos_string</th>\n",
       "      <th>fos_Ćuk converter</th>\n",
       "    </tr>\n",
       "  </thead>\n",
       "  <tbody>\n",
       "    <tr>\n",
       "      <th>0</th>\n",
       "      <td>0</td>\n",
       "      <td>0</td>\n",
       "      <td>0</td>\n",
       "      <td>0</td>\n",
       "      <td>0</td>\n",
       "      <td>0</td>\n",
       "      <td>0</td>\n",
       "      <td>0</td>\n",
       "      <td>0</td>\n",
       "      <td>0</td>\n",
       "      <td>...</td>\n",
       "      <td>0</td>\n",
       "      <td>0</td>\n",
       "      <td>0</td>\n",
       "      <td>0</td>\n",
       "      <td>0</td>\n",
       "      <td>0</td>\n",
       "      <td>0</td>\n",
       "      <td>0</td>\n",
       "      <td>0</td>\n",
       "      <td>0</td>\n",
       "    </tr>\n",
       "    <tr>\n",
       "      <th>1</th>\n",
       "      <td>0</td>\n",
       "      <td>0</td>\n",
       "      <td>0</td>\n",
       "      <td>0</td>\n",
       "      <td>0</td>\n",
       "      <td>0</td>\n",
       "      <td>0</td>\n",
       "      <td>0</td>\n",
       "      <td>0</td>\n",
       "      <td>0</td>\n",
       "      <td>...</td>\n",
       "      <td>0</td>\n",
       "      <td>0</td>\n",
       "      <td>0</td>\n",
       "      <td>0</td>\n",
       "      <td>0</td>\n",
       "      <td>0</td>\n",
       "      <td>0</td>\n",
       "      <td>0</td>\n",
       "      <td>0</td>\n",
       "      <td>0</td>\n",
       "    </tr>\n",
       "  </tbody>\n",
       "</table>\n",
       "<p>2 rows × 4712 columns</p>\n",
       "</div>"
      ],
      "text/plain": [
       "  fos_0 fos_1/N expansion fos_10G-PON fos_3D radar  \\\n",
       "0     0                 0           0            0   \n",
       "1     0                 0           0            0   \n",
       "\n",
       "  fos_3D single-object recognition fos_3G MIMO fos_40-bit encryption  \\\n",
       "0                                0           0                     0   \n",
       "1                                0           0                     0   \n",
       "\n",
       "  fos_56-bit encryption fos_78xx fos_ANK1        ...        fos_hosts  \\\n",
       "0                     0        0        0        ...                0   \n",
       "1                     0        0        0        ...                0   \n",
       "\n",
       "  fos_k-minimum spanning tree fos_k-nearest neighbors algorithm  \\\n",
       "0                           0                                 0   \n",
       "1                           0                                 0   \n",
       "\n",
       "  fos_m-derived filter fos_microRNA fos_pH fos_photoperiodism fos_route  \\\n",
       "0                    0            0      0                  0         0   \n",
       "1                    0            0      0                  0         0   \n",
       "\n",
       "  fos_string fos_Ćuk converter  \n",
       "0          0                 0  \n",
       "1          0                 0  \n",
       "\n",
       "[2 rows x 4712 columns]"
      ]
     },
     "execution_count": 356,
     "metadata": {},
     "output_type": "execute_result"
    }
   ],
   "source": [
    "fos_features.head(2)"
   ]
  },
  {
   "cell_type": "code",
   "execution_count": 360,
   "metadata": {},
   "outputs": [
    {
     "data": {
      "text/plain": [
       "4712"
      ]
     },
     "execution_count": 360,
     "metadata": {},
     "output_type": "execute_result"
    }
   ],
   "source": [
    "m = len(unique_fos)\n",
    "m"
   ]
  },
  {
   "cell_type": "code",
   "execution_count": 377,
   "metadata": {},
   "outputs": [
    {
     "data": {
      "text/plain": [
       "array([[ 0.,  0.,  0., ...,  0.,  0.,  0.],\n",
       "       [ 0.,  0.,  0., ...,  0.,  0.,  0.],\n",
       "       [ 0.,  0.,  0., ...,  0.,  0.,  0.],\n",
       "       ..., \n",
       "       [ 0.,  0.,  0., ...,  0.,  0.,  0.],\n",
       "       [ 0.,  0.,  0., ...,  0.,  0.,  0.],\n",
       "       [ 0.,  0.,  0., ...,  0.,  0.,  0.]])"
      ]
     },
     "execution_count": 377,
     "metadata": {},
     "output_type": "execute_result"
    }
   ],
   "source": [
    "from sklearn.feature_extraction import FeatureHasher\n",
    "\n",
    "h = FeatureHasher(n_features = m, input_type = \"string\")\n",
    "f = h.transform(fos_features)\n",
    "f.toarray()"
   ]
  },
  {
   "cell_type": "code",
   "execution_count": null,
   "metadata": {},
   "outputs": [],
   "source": [
    "# how to use over collaborative filter again when in this shape??"
   ]
  },
  {
   "cell_type": "markdown",
   "metadata": {},
   "source": [
    "# (3) a few more features, pipe, outcome"
   ]
  },
  {
   "cell_type": "markdown",
   "metadata": {},
   "source": [
    "## abstract: stopwords, frequency based filtering (tf-idf?)"
   ]
  },
  {
   "cell_type": "code",
   "execution_count": 273,
   "metadata": {},
   "outputs": [
    {
     "data": {
      "text/plain": [
       "0    A system and method for maskless direct write ...\n",
       "1                                                 None\n",
       "2                                                 None\n",
       "5                                                 None\n",
       "7    Full textFull text is available as a scanned c...\n",
       "Name: abstract, dtype: object"
      ]
     },
     "execution_count": 273,
     "metadata": {},
     "output_type": "execute_result"
    }
   ],
   "source": [
    "# need to fill in NaN for sklearn\n",
    "abstract_df = model_df.fillna('None')\n",
    "\n",
    "# abstract: stopwords, frequency based filtering (tf-idf?)\n",
    "abstract_df['abstract'].head()"
   ]
  },
  {
   "cell_type": "code",
   "execution_count": 275,
   "metadata": {},
   "outputs": [
    {
     "data": {
      "text/plain": [
       "<5167x33339 sparse matrix of type '<class 'numpy.float64'>'\n",
       "\twith 188959 stored elements in Compressed Sparse Row format>"
      ]
     },
     "execution_count": 275,
     "metadata": {},
     "output_type": "execute_result"
    }
   ],
   "source": [
    "from sklearn.feature_extraction.text import TfidfVectorizer\n",
    "\n",
    "vectorizer = TfidfVectorizer(sublinear_tf=True, max_df=0.5,\n",
    "                                 stop_words='english')\n",
    "X_abstract = vectorizer.fit_transform(abstract_df['abstract'])\n",
    "\n",
    "X_abstract"
   ]
  },
  {
   "cell_type": "code",
   "execution_count": 276,
   "metadata": {},
   "outputs": [
    {
     "name": "stdout",
     "output_type": "stream",
     "text": [
      "n_samples: 5167, n_features: 33339\n"
     ]
    }
   ],
   "source": [
    "print(\"n_samples: %d, n_features: %d\" % X_abstract.shape)"
   ]
  },
  {
   "cell_type": "markdown",
   "metadata": {
    "collapsed": true
   },
   "source": [
    "## authors: One-Hot Encoding using sklearn DictVectorizer()"
   ]
  },
  {
   "cell_type": "code",
   "execution_count": null,
   "metadata": {
    "collapsed": true
   },
   "outputs": [],
   "source": [
    "authors_df = pd.DataFrame(model_df.authors)\n",
    "authors_df.head()"
   ]
  },
  {
   "cell_type": "code",
   "execution_count": null,
   "metadata": {
    "collapsed": true
   },
   "outputs": [],
   "source": [
    "import json"
   ]
  },
  {
   "cell_type": "code",
   "execution_count": null,
   "metadata": {
    "collapsed": true
   },
   "outputs": [],
   "source": [
    "type(authors_df.authors[5][0])"
   ]
  },
  {
   "cell_type": "code",
   "execution_count": null,
   "metadata": {
    "collapsed": true
   },
   "outputs": [],
   "source": [
    "authors_list = []\n",
    "\n",
    "for row in authors_df.itertuples():\n",
    "    # create a dictionary from each Series index\n",
    "    if type(row.authors) is list:\n",
    "        # add these keys + values to our running dictionary    \n",
    "        y = dict.fromkeys(row.authors[0].values(), row.Index)\n",
    "        authors_list.append(y)"
   ]
  },
  {
   "cell_type": "code",
   "execution_count": null,
   "metadata": {
    "collapsed": true
   },
   "outputs": [],
   "source": [
    "authors_list[0:5]"
   ]
  },
  {
   "cell_type": "code",
   "execution_count": null,
   "metadata": {
    "collapsed": true
   },
   "outputs": [],
   "source": [
    "from sklearn.feature_extraction import DictVectorizer\n",
    "v = DictVectorizer(sparse=False)\n",
    "D = authors_list\n",
    "X = v.fit_transform(D)"
   ]
  },
  {
   "cell_type": "code",
   "execution_count": null,
   "metadata": {
    "collapsed": true
   },
   "outputs": [],
   "source": [
    "X[0:5]"
   ]
  },
  {
   "cell_type": "code",
   "execution_count": null,
   "metadata": {
    "collapsed": true
   },
   "outputs": [],
   "source": [
    "len(authors_dict)"
   ]
  },
  {
   "cell_type": "markdown",
   "metadata": {},
   "source": [
    "# (4) a few more...does that help? results? performance?\n",
    "### no? okay. return to best case. all about experimentation."
   ]
  },
  {
   "cell_type": "markdown",
   "metadata": {
    "collapsed": true
   },
   "source": [
    "## titles: noun phrases + chunking"
   ]
  },
  {
   "cell_type": "code",
   "execution_count": null,
   "metadata": {
    "collapsed": true
   },
   "outputs": [],
   "source": [
    "model_df['title'].head()"
   ]
  },
  {
   "cell_type": "markdown",
   "metadata": {
    "collapsed": true
   },
   "source": [
    "## keywords: stemming?"
   ]
  },
  {
   "cell_type": "code",
   "execution_count": null,
   "metadata": {
    "collapsed": true
   },
   "outputs": [],
   "source": [
    "model_df['keywords'].head()"
   ]
  },
  {
   "cell_type": "code",
   "execution_count": null,
   "metadata": {
    "collapsed": true
   },
   "outputs": [],
   "source": []
  },
  {
   "cell_type": "markdown",
   "metadata": {},
   "source": [
    "**Citations**\n",
    "\n",
    "Jie Tang, Jing Zhang, Limin Yao, Juanzi Li, Li Zhang, and Zhong Su. ArnetMiner: Extraction and Mining of Academic Social Networks. In Proceedings of the Fourteenth ACM SIGKDD International Conference on Knowledge Discovery and Data Mining (SIGKDD’2008). pp.990-998. [PDF](http://keg.cs.tsinghua.edu.cn/jietang/publications/KDD08-Tang-et-al-ArnetMiner.pdf) [Slides](http://keg.cs.tsinghua.edu.cn/jietang/publications/KDD08-Tang-et-al-Arnetminer.ppt) [System](http://aminer.org/) [API](http://aminer.org/RESTful_service)\n",
    "\n",
    "Arnab Sinha, Zhihong Shen, Yang Song, Hao Ma, Darrin Eide, Bo-June (Paul) Hsu, and Kuansan Wang. 2015. An Overview of Microsoft Academic Service (MAS) and Applications. In Proceedings of the 24th International Conference on World Wide Web (WWW ’15 Companion). ACM, New York, NY, USA, 243-246. [PDF](https://www.microsoft.com/en-us/research/publication/an-overview-of-microsoft-academic-service-mas-and-applications-2/) [System](https://academic.microsoft.com/) [API](https://docs.microsoft.com/en-us/azure/cognitive-services/academic-knowledge/home)"
   ]
  }
 ],
 "metadata": {
  "kernelspec": {
   "display_name": "Python 3",
   "language": "python",
   "name": "python3"
  },
  "language_info": {
   "codemirror_mode": {
    "name": "ipython",
    "version": 3
   },
   "file_extension": ".py",
   "mimetype": "text/x-python",
   "name": "python",
   "nbconvert_exporter": "python",
   "pygments_lexer": "ipython3",
   "version": "3.6.3"
  }
 },
 "nbformat": 4,
 "nbformat_minor": 2
}
