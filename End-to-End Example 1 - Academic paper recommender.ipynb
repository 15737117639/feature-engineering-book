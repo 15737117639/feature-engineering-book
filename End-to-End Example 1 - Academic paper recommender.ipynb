{
 "cells": [
  {
   "cell_type": "markdown",
   "metadata": {},
   "source": [
    "**Helpful Links: Where the Data Lives**\n",
    "\n",
    "Open Academic Society: [Project Page](https://www.openacademic.ai/oag/)\n",
    "\n",
    "Microsoft Research: [MS Academic Graph](https://www.microsoft.com/en-us/research/project/microsoft-academic-graph/)"
   ]
  },
  {
   "cell_type": "code",
   "execution_count": 1,
   "metadata": {
    "collapsed": true
   },
   "outputs": [],
   "source": [
    "import pandas as pd"
   ]
  },
  {
   "cell_type": "code",
   "execution_count": 2,
   "metadata": {
    "collapsed": true
   },
   "outputs": [],
   "source": [
    "data = pd.read_json('data/mag_papers_0/mag_papers_0.txt', lines=True)"
   ]
  },
  {
   "cell_type": "code",
   "execution_count": 3,
   "metadata": {},
   "outputs": [
    {
     "data": {
      "text/plain": [
       "(1000000, 19)"
      ]
     },
     "execution_count": 3,
     "metadata": {},
     "output_type": "execute_result"
    }
   ],
   "source": [
    "data.shape"
   ]
  },
  {
   "cell_type": "code",
   "execution_count": 4,
   "metadata": {},
   "outputs": [
    {
     "data": {
      "text/plain": [
       "Index(['abstract', 'authors', 'doc_type', 'doi', 'fos', 'id', 'issue',\n",
       "       'keywords', 'lang', 'n_citation', 'page_end', 'page_start', 'publisher',\n",
       "       'references', 'title', 'url', 'venue', 'volume', 'year'],\n",
       "      dtype='object')"
      ]
     },
     "execution_count": 4,
     "metadata": {},
     "output_type": "execute_result"
    }
   ],
   "source": [
    "data.columns"
   ]
  },
  {
   "cell_type": "code",
   "execution_count": 5,
   "metadata": {
    "collapsed": true
   },
   "outputs": [],
   "source": [
    "# filter out non-English articles\n",
    "\n",
    "model_df = data[data.lang == 'en']"
   ]
  },
  {
   "cell_type": "code",
   "execution_count": 6,
   "metadata": {},
   "outputs": [
    {
     "data": {
      "text/plain": [
       "(522017, 19)"
      ]
     },
     "execution_count": 6,
     "metadata": {},
     "output_type": "execute_result"
    }
   ],
   "source": [
    "model_df.shape"
   ]
  },
  {
   "cell_type": "code",
   "execution_count": 7,
   "metadata": {},
   "outputs": [
    {
     "data": {
      "text/html": [
       "<div>\n",
       "<style>\n",
       "    .dataframe thead tr:only-child th {\n",
       "        text-align: right;\n",
       "    }\n",
       "\n",
       "    .dataframe thead th {\n",
       "        text-align: left;\n",
       "    }\n",
       "\n",
       "    .dataframe tbody tr th {\n",
       "        vertical-align: top;\n",
       "    }\n",
       "</style>\n",
       "<table border=\"1\" class=\"dataframe\">\n",
       "  <thead>\n",
       "    <tr style=\"text-align: right;\">\n",
       "      <th></th>\n",
       "      <th>abstract</th>\n",
       "      <th>authors</th>\n",
       "      <th>doc_type</th>\n",
       "      <th>doi</th>\n",
       "      <th>fos</th>\n",
       "      <th>id</th>\n",
       "      <th>issue</th>\n",
       "      <th>keywords</th>\n",
       "      <th>lang</th>\n",
       "      <th>n_citation</th>\n",
       "      <th>page_end</th>\n",
       "      <th>page_start</th>\n",
       "      <th>publisher</th>\n",
       "      <th>references</th>\n",
       "      <th>title</th>\n",
       "      <th>url</th>\n",
       "      <th>venue</th>\n",
       "      <th>volume</th>\n",
       "      <th>year</th>\n",
       "    </tr>\n",
       "  </thead>\n",
       "  <tbody>\n",
       "    <tr>\n",
       "      <th>0</th>\n",
       "      <td>A system and method for maskless direct write ...</td>\n",
       "      <td>NaN</td>\n",
       "      <td>NaN</td>\n",
       "      <td>NaN</td>\n",
       "      <td>[Electronic engineering, Computer hardware, En...</td>\n",
       "      <td>0000002e-c2f2-4e25-9341-60d39130ac7a</td>\n",
       "      <td>NaN</td>\n",
       "      <td>NaN</td>\n",
       "      <td>en</td>\n",
       "      <td>NaN</td>\n",
       "      <td>NaN</td>\n",
       "      <td>NaN</td>\n",
       "      <td>NaN</td>\n",
       "      <td>[354c172f-d877-4e60-a7eb-c1b1cf03ce4d, 76cf106...</td>\n",
       "      <td>System and Method for Maskless Direct Write Li...</td>\n",
       "      <td>[http://www.freepatentsonline.com/y2016/021111...</td>\n",
       "      <td>NaN</td>\n",
       "      <td>NaN</td>\n",
       "      <td>2015</td>\n",
       "    </tr>\n",
       "    <tr>\n",
       "      <th>1</th>\n",
       "      <td>NaN</td>\n",
       "      <td>[{'name': 'Ahmed M. Alluwaimi'}]</td>\n",
       "      <td>NaN</td>\n",
       "      <td>10.4172/2157-7560.C1.030</td>\n",
       "      <td>[Biology, Virology, Immunology, Microbiology]</td>\n",
       "      <td>0000003d-5ce0-4eed-a56f-bbd3f8d8242b</td>\n",
       "      <td>NaN</td>\n",
       "      <td>[paratuberculosis, of, subspecies, proceedings...</td>\n",
       "      <td>en</td>\n",
       "      <td>NaN</td>\n",
       "      <td>NaN</td>\n",
       "      <td>NaN</td>\n",
       "      <td>OMICS International</td>\n",
       "      <td>NaN</td>\n",
       "      <td>The dilemma of the Mycobacterium avium subspec...</td>\n",
       "      <td>[http://www.omicsonline.org/proceedings/the-di...</td>\n",
       "      <td>NaN</td>\n",
       "      <td>NaN</td>\n",
       "      <td>2016</td>\n",
       "    </tr>\n",
       "    <tr>\n",
       "      <th>2</th>\n",
       "      <td>NaN</td>\n",
       "      <td>[{'org': 'Weill Cornell Medical College, New Y...</td>\n",
       "      <td>Journal</td>\n",
       "      <td>10.1016/j.fertnstert.2015.07.492</td>\n",
       "      <td>NaN</td>\n",
       "      <td>00000061-0bab-468b-9481-de0c899783f3</td>\n",
       "      <td>3.0</td>\n",
       "      <td>NaN</td>\n",
       "      <td>en</td>\n",
       "      <td>NaN</td>\n",
       "      <td>NaN</td>\n",
       "      <td>NaN</td>\n",
       "      <td>Elsevier</td>\n",
       "      <td>NaN</td>\n",
       "      <td>Should endometriosis be an indication for intr...</td>\n",
       "      <td>[http://www.fertstert.org/article/S0015-0282(1...</td>\n",
       "      <td>Fertility and Sterility</td>\n",
       "      <td>104.0</td>\n",
       "      <td>2015</td>\n",
       "    </tr>\n",
       "    <tr>\n",
       "      <th>5</th>\n",
       "      <td>NaN</td>\n",
       "      <td>[{'name': 'George C. Sponsler'}]</td>\n",
       "      <td>Journal</td>\n",
       "      <td>10.1063/1.3034711</td>\n",
       "      <td>NaN</td>\n",
       "      <td>000000a0-583a-486a-bb5b-38539503fa5c</td>\n",
       "      <td>1.0</td>\n",
       "      <td>NaN</td>\n",
       "      <td>en</td>\n",
       "      <td>NaN</td>\n",
       "      <td>15</td>\n",
       "      <td>13</td>\n",
       "      <td>American Institute of Physics</td>\n",
       "      <td>NaN</td>\n",
       "      <td>Should APS Discuss Public Issues: Direct, pers...</td>\n",
       "      <td>[http://physicstoday.scitation.org/doi/abs/10....</td>\n",
       "      <td>Physics Today</td>\n",
       "      <td>21.0</td>\n",
       "      <td>1968</td>\n",
       "    </tr>\n",
       "    <tr>\n",
       "      <th>7</th>\n",
       "      <td>Full textFull text is available as a scanned c...</td>\n",
       "      <td>[{'name': 'M. T. Richards'}]</td>\n",
       "      <td>NaN</td>\n",
       "      <td>NaN</td>\n",
       "      <td>[Medicine, Pathology, Gynecology, Surgery]</td>\n",
       "      <td>000000d2-3acb-42cc-8f5d-cf92e7967f32</td>\n",
       "      <td>4.0</td>\n",
       "      <td>[breast neoplasms, female, middle aged, adoles...</td>\n",
       "      <td>en</td>\n",
       "      <td>NaN</td>\n",
       "      <td>306</td>\n",
       "      <td>305</td>\n",
       "      <td>Canadian Medical Association</td>\n",
       "      <td>NaN</td>\n",
       "      <td>Breast surgery--as an office procedure</td>\n",
       "      <td>[http://www.cmaj.ca/content/109/4/305.citation...</td>\n",
       "      <td>Canadian Medical Association Journal</td>\n",
       "      <td>109.0</td>\n",
       "      <td>1973</td>\n",
       "    </tr>\n",
       "  </tbody>\n",
       "</table>\n",
       "</div>"
      ],
      "text/plain": [
       "                                            abstract  \\\n",
       "0  A system and method for maskless direct write ...   \n",
       "1                                                NaN   \n",
       "2                                                NaN   \n",
       "5                                                NaN   \n",
       "7  Full textFull text is available as a scanned c...   \n",
       "\n",
       "                                             authors doc_type  \\\n",
       "0                                                NaN      NaN   \n",
       "1                   [{'name': 'Ahmed M. Alluwaimi'}]      NaN   \n",
       "2  [{'org': 'Weill Cornell Medical College, New Y...  Journal   \n",
       "5                   [{'name': 'George C. Sponsler'}]  Journal   \n",
       "7                       [{'name': 'M. T. Richards'}]      NaN   \n",
       "\n",
       "                                doi  \\\n",
       "0                               NaN   \n",
       "1          10.4172/2157-7560.C1.030   \n",
       "2  10.1016/j.fertnstert.2015.07.492   \n",
       "5                 10.1063/1.3034711   \n",
       "7                               NaN   \n",
       "\n",
       "                                                 fos  \\\n",
       "0  [Electronic engineering, Computer hardware, En...   \n",
       "1      [Biology, Virology, Immunology, Microbiology]   \n",
       "2                                                NaN   \n",
       "5                                                NaN   \n",
       "7         [Medicine, Pathology, Gynecology, Surgery]   \n",
       "\n",
       "                                     id  issue  \\\n",
       "0  0000002e-c2f2-4e25-9341-60d39130ac7a    NaN   \n",
       "1  0000003d-5ce0-4eed-a56f-bbd3f8d8242b    NaN   \n",
       "2  00000061-0bab-468b-9481-de0c899783f3    3.0   \n",
       "5  000000a0-583a-486a-bb5b-38539503fa5c    1.0   \n",
       "7  000000d2-3acb-42cc-8f5d-cf92e7967f32    4.0   \n",
       "\n",
       "                                            keywords lang  n_citation  \\\n",
       "0                                                NaN   en         NaN   \n",
       "1  [paratuberculosis, of, subspecies, proceedings...   en         NaN   \n",
       "2                                                NaN   en         NaN   \n",
       "5                                                NaN   en         NaN   \n",
       "7  [breast neoplasms, female, middle aged, adoles...   en         NaN   \n",
       "\n",
       "  page_end page_start                      publisher  \\\n",
       "0      NaN        NaN                            NaN   \n",
       "1      NaN        NaN            OMICS International   \n",
       "2      NaN        NaN                       Elsevier   \n",
       "5       15         13  American Institute of Physics   \n",
       "7      306        305   Canadian Medical Association   \n",
       "\n",
       "                                          references  \\\n",
       "0  [354c172f-d877-4e60-a7eb-c1b1cf03ce4d, 76cf106...   \n",
       "1                                                NaN   \n",
       "2                                                NaN   \n",
       "5                                                NaN   \n",
       "7                                                NaN   \n",
       "\n",
       "                                               title  \\\n",
       "0  System and Method for Maskless Direct Write Li...   \n",
       "1  The dilemma of the Mycobacterium avium subspec...   \n",
       "2  Should endometriosis be an indication for intr...   \n",
       "5  Should APS Discuss Public Issues: Direct, pers...   \n",
       "7             Breast surgery--as an office procedure   \n",
       "\n",
       "                                                 url  \\\n",
       "0  [http://www.freepatentsonline.com/y2016/021111...   \n",
       "1  [http://www.omicsonline.org/proceedings/the-di...   \n",
       "2  [http://www.fertstert.org/article/S0015-0282(1...   \n",
       "5  [http://physicstoday.scitation.org/doi/abs/10....   \n",
       "7  [http://www.cmaj.ca/content/109/4/305.citation...   \n",
       "\n",
       "                                  venue  volume  year  \n",
       "0                                   NaN     NaN  2015  \n",
       "1                                   NaN     NaN  2016  \n",
       "2               Fertility and Sterility   104.0  2015  \n",
       "5                         Physics Today    21.0  1968  \n",
       "7  Canadian Medical Association Journal   109.0  1973  "
      ]
     },
     "execution_count": 7,
     "metadata": {},
     "output_type": "execute_result"
    }
   ],
   "source": [
    "model_df.head()"
   ]
  },
  {
   "cell_type": "code",
   "execution_count": 58,
   "metadata": {
    "collapsed": true
   },
   "outputs": [],
   "source": [
    "# split a training set and a test set\n",
    "#from sklearn.model_selection import train_test_split\n",
    "#X_train, X_test = train_test_split(model_df, test_size=0.33, random_state=42)"
   ]
  },
  {
   "cell_type": "markdown",
   "metadata": {},
   "source": [
    "# (1) raw data > algorithm w/ XKCD comic"
   ]
  },
  {
   "cell_type": "markdown",
   "metadata": {
    "collapsed": true
   },
   "source": [
    "## Content Based Recommendation using Jaccard Similarity(abstract, authors, fos, keywords, year, titles)"
   ]
  },
  {
   "cell_type": "markdown",
   "metadata": {},
   "source": [
    "How to go about building a recommender system? \n",
    "\n",
    "Let's start simple + [steal like an artist](https://austinkleon.com/steal/). \n",
    "\n",
    "See the original, excellent examples from Joel Grus [Data Science from Scratch](https://github.com/joelgrus/data-science-from-scratch/blob/master/code-python3/recommender_systems.py)."
   ]
  },
  {
   "cell_type": "code",
   "execution_count": 19,
   "metadata": {},
   "outputs": [],
   "source": [
    "import math, random\n",
    "from collections import defaultdict, Counter"
   ]
  },
  {
   "cell_type": "code",
   "execution_count": 20,
   "metadata": {
    "collapsed": true
   },
   "outputs": [],
   "source": [
    "def dot(v, w):\n",
    "    \"\"\"v_1 * w_1 + ... + v_n * w_n\"\"\"\n",
    "    return sum(v_i * w_i for v_i, w_i in zip(v, w))\n",
    "\n",
    "def cosine_similarity(v, w):\n",
    "    return dot(v, w) / math.sqrt(dot(v, v) * dot(w, w))"
   ]
  },
  {
   "cell_type": "code",
   "execution_count": 21,
   "metadata": {
    "collapsed": true
   },
   "outputs": [],
   "source": [
    "users_interests = [\n",
    "    [\"Hadoop\", \"Big Data\", \"HBase\", \"Java\", \"Spark\", \"Storm\", \"Cassandra\"],\n",
    "    [\"NoSQL\", \"MongoDB\", \"Cassandra\", \"HBase\", \"Postgres\"],\n",
    "    [\"Python\", \"scikit-learn\", \"scipy\", \"numpy\", \"statsmodels\", \"pandas\"],\n",
    "    [\"R\", \"Python\", \"statistics\", \"regression\", \"probability\"],\n",
    "    [\"machine learning\", \"regression\", \"decision trees\", \"libsvm\"],\n",
    "    [\"Python\", \"R\", \"Java\", \"C++\", \"Haskell\", \"programming languages\"],\n",
    "    [\"statistics\", \"probability\", \"mathematics\", \"theory\"],\n",
    "    [\"machine learning\", \"scikit-learn\", \"Mahout\", \"neural networks\"],\n",
    "    [\"neural networks\", \"deep learning\", \"Big Data\", \"artificial intelligence\"],\n",
    "    [\"Hadoop\", \"Java\", \"MapReduce\", \"Big Data\"],\n",
    "    [\"statistics\", \"R\", \"statsmodels\"],\n",
    "    [\"C++\", \"deep learning\", \"artificial intelligence\", \"probability\"],\n",
    "    [\"pandas\", \"R\", \"Python\"],\n",
    "    [\"databases\", \"HBase\", \"Postgres\", \"MySQL\", \"MongoDB\"],\n",
    "    [\"libsvm\", \"regression\", \"support vector machines\"]\n",
    "]"
   ]
  },
  {
   "cell_type": "code",
   "execution_count": 22,
   "metadata": {
    "collapsed": true
   },
   "outputs": [],
   "source": [
    "popular_interests = Counter(interest\n",
    "                            for user_interests in users_interests\n",
    "                            for interest in user_interests).most_common()\n",
    "\n",
    "def most_popular_new_interests(user_interests, max_results=5):\n",
    "    suggestions = [(interest, frequency)\n",
    "                   for interest, frequency in popular_interests\n",
    "                   if interest not in user_interests]\n",
    "    return suggestions[:max_results]"
   ]
  },
  {
   "cell_type": "code",
   "execution_count": 23,
   "metadata": {
    "collapsed": true
   },
   "outputs": [],
   "source": [
    "unique_interests = sorted(list({ interest\n",
    "                                 for user_interests in users_interests\n",
    "                                 for interest in user_interests }))"
   ]
  },
  {
   "cell_type": "code",
   "execution_count": 24,
   "metadata": {
    "collapsed": true
   },
   "outputs": [],
   "source": [
    "def make_user_interest_vector(user_interests):\n",
    "    \"\"\"given a list of interests, produce a vector whose i-th element is 1\n",
    "    if unique_interests[i] is in the list, 0 otherwise\"\"\"\n",
    "    return [1 if interest in user_interests else 0\n",
    "            for interest in unique_interests]\n",
    "\n",
    "user_interest_matrix = list(map(make_user_interest_vector, users_interests))"
   ]
  },
  {
   "cell_type": "code",
   "execution_count": 25,
   "metadata": {
    "collapsed": true
   },
   "outputs": [],
   "source": [
    "#\n",
    "# Item-Based Collaborative Filtering\n",
    "#\n",
    "\n",
    "interest_user_matrix = [[user_interest_vector[j]\n",
    "                         for user_interest_vector in user_interest_matrix]\n",
    "                        for j, _ in enumerate(unique_interests)]\n",
    "\n",
    "interest_similarities = [[cosine_similarity(user_vector_i, user_vector_j)\n",
    "                          for user_vector_j in interest_user_matrix]\n",
    "                         for user_vector_i in interest_user_matrix]\n",
    "\n",
    "def most_similar_interests_to(interest_id):\n",
    "    similarities = interest_similarities[interest_id]\n",
    "    pairs = [(unique_interests[other_interest_id], similarity)\n",
    "             for other_interest_id, similarity in enumerate(similarities)\n",
    "             if interest_id != other_interest_id and similarity > 0]\n",
    "    return sorted(pairs,\n",
    "                  key=lambda pair: pair[1],\n",
    "                  reverse=True)"
   ]
  },
  {
   "cell_type": "code",
   "execution_count": 26,
   "metadata": {
    "collapsed": true
   },
   "outputs": [],
   "source": [
    "def item_based_suggestions(user_id, include_current_interests=False):\n",
    "    suggestions = defaultdict(float)\n",
    "    user_interest_vector = user_interest_matrix[user_id]\n",
    "    for interest_id, is_interested in enumerate(user_interest_vector):\n",
    "        if is_interested == 1:\n",
    "            similar_interests = most_similar_interests_to(interest_id)\n",
    "            for interest, similarity in similar_interests:\n",
    "                suggestions[interest] += similarity\n",
    "\n",
    "    suggestions = sorted(suggestions.items(),\n",
    "                         key=lambda pair: pair[1],\n",
    "                         reverse=True)\n",
    "\n",
    "    if include_current_interests:\n",
    "        return suggestions\n",
    "    else:\n",
    "        return [(suggestion, weight)\n",
    "                for suggestion, weight in suggestions\n",
    "                if suggestion not in users_interests[user_id]]"
   ]
  },
  {
   "cell_type": "code",
   "execution_count": 27,
   "metadata": {},
   "outputs": [
    {
     "name": "stdout",
     "output_type": "stream",
     "text": [
      "Popular Interests\n",
      "[('R', 4), ('Python', 4), ('regression', 3), ('Java', 3), ('statistics', 3), ('probability', 3), ('HBase', 3), ('Big Data', 3), ('Hadoop', 2), ('MongoDB', 2), ('deep learning', 2), ('libsvm', 2), ('machine learning', 2), ('C++', 2), ('pandas', 2), ('Postgres', 2), ('Cassandra', 2), ('statsmodels', 2), ('artificial intelligence', 2), ('scikit-learn', 2), ('neural networks', 2), ('Spark', 1), ('NoSQL', 1), ('scipy', 1), ('MySQL', 1), ('MapReduce', 1), ('Mahout', 1), ('numpy', 1), ('Haskell', 1), ('Storm', 1), ('mathematics', 1), ('support vector machines', 1), ('programming languages', 1), ('databases', 1), ('theory', 1), ('decision trees', 1)]\n",
      "\n",
      "Most Popular New Interests\n",
      "already like: ['NoSQL', 'MongoDB', 'Cassandra', 'HBase', 'Postgres']\n",
      "[('R', 4), ('Python', 4), ('regression', 3), ('Java', 3), ('statistics', 3)]\n",
      "\n",
      "already like: ['R', 'Python', 'statistics', 'regression', 'probability']\n",
      "[('Java', 3), ('HBase', 3), ('Big Data', 3), ('Hadoop', 2), ('MongoDB', 2)]\n",
      "\n",
      "Item based similarity\n",
      "most similar to 'Big Data'\n",
      "[('Hadoop', 0.8164965809277261), ('Java', 0.6666666666666666), ('MapReduce', 0.5773502691896258), ('Spark', 0.5773502691896258), ('Storm', 0.5773502691896258), ('Cassandra', 0.4082482904638631), ('artificial intelligence', 0.4082482904638631), ('deep learning', 0.4082482904638631), ('neural networks', 0.4082482904638631), ('HBase', 0.3333333333333333)]\n",
      "\n",
      "suggestions for user 0\n",
      "[('MapReduce', 1.861807319565799), ('Postgres', 1.3164965809277263), ('MongoDB', 1.3164965809277263), ('NoSQL', 1.2844570503761732), ('MySQL', 0.5773502691896258), ('databases', 0.5773502691896258), ('programming languages', 0.5773502691896258), ('Haskell', 0.5773502691896258), ('deep learning', 0.4082482904638631), ('C++', 0.4082482904638631), ('artificial intelligence', 0.4082482904638631), ('neural networks', 0.4082482904638631), ('R', 0.2886751345948129), ('Python', 0.2886751345948129)]\n"
     ]
    }
   ],
   "source": [
    "if __name__ == \"__main__\":\n",
    "\n",
    "    print(\"Popular Interests\")\n",
    "    print(popular_interests)\n",
    "    print()\n",
    "\n",
    "    print(\"Most Popular New Interests\")\n",
    "    print(\"already like:\", [\"NoSQL\", \"MongoDB\", \"Cassandra\", \"HBase\", \"Postgres\"])\n",
    "    print(most_popular_new_interests([\"NoSQL\", \"MongoDB\", \"Cassandra\", \"HBase\", \"Postgres\"]))\n",
    "    print()\n",
    "    print(\"already like:\", [\"R\", \"Python\", \"statistics\", \"regression\", \"probability\"])\n",
    "    print(most_popular_new_interests([\"R\", \"Python\", \"statistics\", \"regression\", \"probability\"]))\n",
    "    print()\n",
    "\n",
    "    print(\"Item based similarity\")\n",
    "    print(\"most similar to 'Big Data'\")\n",
    "    print(most_similar_interests_to(0))\n",
    "    print()\n",
    "\n",
    "    print(\"suggestions for user 0\")\n",
    "    print(item_based_suggestions(0))"
   ]
  },
  {
   "cell_type": "markdown",
   "metadata": {},
   "source": [
    "# (2) a few features, pipe, outcome"
   ]
  },
  {
   "cell_type": "code",
   "execution_count": 10,
   "metadata": {
    "collapsed": true
   },
   "outputs": [],
   "source": [
    "import matplotlib.pyplot as plt\n",
    "import seaborn as sns\n",
    "import numpy as np\n",
    "%matplotlib notebook"
   ]
  },
  {
   "cell_type": "code",
   "execution_count": 11,
   "metadata": {},
   "outputs": [
    {
     "data": {
      "text/plain": [
       "999993    1998\n",
       "999994    2014\n",
       "999995    2010\n",
       "999996    1970\n",
       "999998    2010\n",
       "Name: year, dtype: int64"
      ]
     },
     "execution_count": 11,
     "metadata": {},
     "output_type": "execute_result"
    }
   ],
   "source": [
    "model_df['year'].tail()"
   ]
  },
  {
   "cell_type": "code",
   "execution_count": 12,
   "metadata": {},
   "outputs": [
    {
     "name": "stdout",
     "output_type": "stream",
     "text": [
      "Year spread:  1800  -  2017\n",
      "Quantile spread:\n",
      " 0.25    1990.0\n",
      "0.50    2005.0\n",
      "0.75    2012.0\n",
      "Name: year, dtype: float64\n"
     ]
    }
   ],
   "source": [
    "print(\"Year spread: \", model_df['year'].min(),\" - \", model_df['year'].max())\n",
    "print(\"Quantile spread:\\n\", model_df['year'].quantile([0.25, 0.5, 0.75]))"
   ]
  },
  {
   "cell_type": "code",
   "execution_count": 13,
   "metadata": {},
   "outputs": [
    {
     "data": {
      "application/javascript": [
       "/* Put everything inside the global mpl namespace */\n",
       "window.mpl = {};\n",
       "\n",
       "\n",
       "mpl.get_websocket_type = function() {\n",
       "    if (typeof(WebSocket) !== 'undefined') {\n",
       "        return WebSocket;\n",
       "    } else if (typeof(MozWebSocket) !== 'undefined') {\n",
       "        return MozWebSocket;\n",
       "    } else {\n",
       "        alert('Your browser does not have WebSocket support.' +\n",
       "              'Please try Chrome, Safari or Firefox ≥ 6. ' +\n",
       "              'Firefox 4 and 5 are also supported but you ' +\n",
       "              'have to enable WebSockets in about:config.');\n",
       "    };\n",
       "}\n",
       "\n",
       "mpl.figure = function(figure_id, websocket, ondownload, parent_element) {\n",
       "    this.id = figure_id;\n",
       "\n",
       "    this.ws = websocket;\n",
       "\n",
       "    this.supports_binary = (this.ws.binaryType != undefined);\n",
       "\n",
       "    if (!this.supports_binary) {\n",
       "        var warnings = document.getElementById(\"mpl-warnings\");\n",
       "        if (warnings) {\n",
       "            warnings.style.display = 'block';\n",
       "            warnings.textContent = (\n",
       "                \"This browser does not support binary websocket messages. \" +\n",
       "                    \"Performance may be slow.\");\n",
       "        }\n",
       "    }\n",
       "\n",
       "    this.imageObj = new Image();\n",
       "\n",
       "    this.context = undefined;\n",
       "    this.message = undefined;\n",
       "    this.canvas = undefined;\n",
       "    this.rubberband_canvas = undefined;\n",
       "    this.rubberband_context = undefined;\n",
       "    this.format_dropdown = undefined;\n",
       "\n",
       "    this.image_mode = 'full';\n",
       "\n",
       "    this.root = $('<div/>');\n",
       "    this._root_extra_style(this.root)\n",
       "    this.root.attr('style', 'display: inline-block');\n",
       "\n",
       "    $(parent_element).append(this.root);\n",
       "\n",
       "    this._init_header(this);\n",
       "    this._init_canvas(this);\n",
       "    this._init_toolbar(this);\n",
       "\n",
       "    var fig = this;\n",
       "\n",
       "    this.waiting = false;\n",
       "\n",
       "    this.ws.onopen =  function () {\n",
       "            fig.send_message(\"supports_binary\", {value: fig.supports_binary});\n",
       "            fig.send_message(\"send_image_mode\", {});\n",
       "            if (mpl.ratio != 1) {\n",
       "                fig.send_message(\"set_dpi_ratio\", {'dpi_ratio': mpl.ratio});\n",
       "            }\n",
       "            fig.send_message(\"refresh\", {});\n",
       "        }\n",
       "\n",
       "    this.imageObj.onload = function() {\n",
       "            if (fig.image_mode == 'full') {\n",
       "                // Full images could contain transparency (where diff images\n",
       "                // almost always do), so we need to clear the canvas so that\n",
       "                // there is no ghosting.\n",
       "                fig.context.clearRect(0, 0, fig.canvas.width, fig.canvas.height);\n",
       "            }\n",
       "            fig.context.drawImage(fig.imageObj, 0, 0);\n",
       "        };\n",
       "\n",
       "    this.imageObj.onunload = function() {\n",
       "        this.ws.close();\n",
       "    }\n",
       "\n",
       "    this.ws.onmessage = this._make_on_message_function(this);\n",
       "\n",
       "    this.ondownload = ondownload;\n",
       "}\n",
       "\n",
       "mpl.figure.prototype._init_header = function() {\n",
       "    var titlebar = $(\n",
       "        '<div class=\"ui-dialog-titlebar ui-widget-header ui-corner-all ' +\n",
       "        'ui-helper-clearfix\"/>');\n",
       "    var titletext = $(\n",
       "        '<div class=\"ui-dialog-title\" style=\"width: 100%; ' +\n",
       "        'text-align: center; padding: 3px;\"/>');\n",
       "    titlebar.append(titletext)\n",
       "    this.root.append(titlebar);\n",
       "    this.header = titletext[0];\n",
       "}\n",
       "\n",
       "\n",
       "\n",
       "mpl.figure.prototype._canvas_extra_style = function(canvas_div) {\n",
       "\n",
       "}\n",
       "\n",
       "\n",
       "mpl.figure.prototype._root_extra_style = function(canvas_div) {\n",
       "\n",
       "}\n",
       "\n",
       "mpl.figure.prototype._init_canvas = function() {\n",
       "    var fig = this;\n",
       "\n",
       "    var canvas_div = $('<div/>');\n",
       "\n",
       "    canvas_div.attr('style', 'position: relative; clear: both; outline: 0');\n",
       "\n",
       "    function canvas_keyboard_event(event) {\n",
       "        return fig.key_event(event, event['data']);\n",
       "    }\n",
       "\n",
       "    canvas_div.keydown('key_press', canvas_keyboard_event);\n",
       "    canvas_div.keyup('key_release', canvas_keyboard_event);\n",
       "    this.canvas_div = canvas_div\n",
       "    this._canvas_extra_style(canvas_div)\n",
       "    this.root.append(canvas_div);\n",
       "\n",
       "    var canvas = $('<canvas/>');\n",
       "    canvas.addClass('mpl-canvas');\n",
       "    canvas.attr('style', \"left: 0; top: 0; z-index: 0; outline: 0\")\n",
       "\n",
       "    this.canvas = canvas[0];\n",
       "    this.context = canvas[0].getContext(\"2d\");\n",
       "\n",
       "    var backingStore = this.context.backingStorePixelRatio ||\n",
       "\tthis.context.webkitBackingStorePixelRatio ||\n",
       "\tthis.context.mozBackingStorePixelRatio ||\n",
       "\tthis.context.msBackingStorePixelRatio ||\n",
       "\tthis.context.oBackingStorePixelRatio ||\n",
       "\tthis.context.backingStorePixelRatio || 1;\n",
       "\n",
       "    mpl.ratio = (window.devicePixelRatio || 1) / backingStore;\n",
       "\n",
       "    var rubberband = $('<canvas/>');\n",
       "    rubberband.attr('style', \"position: absolute; left: 0; top: 0; z-index: 1;\")\n",
       "\n",
       "    var pass_mouse_events = true;\n",
       "\n",
       "    canvas_div.resizable({\n",
       "        start: function(event, ui) {\n",
       "            pass_mouse_events = false;\n",
       "        },\n",
       "        resize: function(event, ui) {\n",
       "            fig.request_resize(ui.size.width, ui.size.height);\n",
       "        },\n",
       "        stop: function(event, ui) {\n",
       "            pass_mouse_events = true;\n",
       "            fig.request_resize(ui.size.width, ui.size.height);\n",
       "        },\n",
       "    });\n",
       "\n",
       "    function mouse_event_fn(event) {\n",
       "        if (pass_mouse_events)\n",
       "            return fig.mouse_event(event, event['data']);\n",
       "    }\n",
       "\n",
       "    rubberband.mousedown('button_press', mouse_event_fn);\n",
       "    rubberband.mouseup('button_release', mouse_event_fn);\n",
       "    // Throttle sequential mouse events to 1 every 20ms.\n",
       "    rubberband.mousemove('motion_notify', mouse_event_fn);\n",
       "\n",
       "    rubberband.mouseenter('figure_enter', mouse_event_fn);\n",
       "    rubberband.mouseleave('figure_leave', mouse_event_fn);\n",
       "\n",
       "    canvas_div.on(\"wheel\", function (event) {\n",
       "        event = event.originalEvent;\n",
       "        event['data'] = 'scroll'\n",
       "        if (event.deltaY < 0) {\n",
       "            event.step = 1;\n",
       "        } else {\n",
       "            event.step = -1;\n",
       "        }\n",
       "        mouse_event_fn(event);\n",
       "    });\n",
       "\n",
       "    canvas_div.append(canvas);\n",
       "    canvas_div.append(rubberband);\n",
       "\n",
       "    this.rubberband = rubberband;\n",
       "    this.rubberband_canvas = rubberband[0];\n",
       "    this.rubberband_context = rubberband[0].getContext(\"2d\");\n",
       "    this.rubberband_context.strokeStyle = \"#000000\";\n",
       "\n",
       "    this._resize_canvas = function(width, height) {\n",
       "        // Keep the size of the canvas, canvas container, and rubber band\n",
       "        // canvas in synch.\n",
       "        canvas_div.css('width', width)\n",
       "        canvas_div.css('height', height)\n",
       "\n",
       "        canvas.attr('width', width * mpl.ratio);\n",
       "        canvas.attr('height', height * mpl.ratio);\n",
       "        canvas.attr('style', 'width: ' + width + 'px; height: ' + height + 'px;');\n",
       "\n",
       "        rubberband.attr('width', width);\n",
       "        rubberband.attr('height', height);\n",
       "    }\n",
       "\n",
       "    // Set the figure to an initial 600x600px, this will subsequently be updated\n",
       "    // upon first draw.\n",
       "    this._resize_canvas(600, 600);\n",
       "\n",
       "    // Disable right mouse context menu.\n",
       "    $(this.rubberband_canvas).bind(\"contextmenu\",function(e){\n",
       "        return false;\n",
       "    });\n",
       "\n",
       "    function set_focus () {\n",
       "        canvas.focus();\n",
       "        canvas_div.focus();\n",
       "    }\n",
       "\n",
       "    window.setTimeout(set_focus, 100);\n",
       "}\n",
       "\n",
       "mpl.figure.prototype._init_toolbar = function() {\n",
       "    var fig = this;\n",
       "\n",
       "    var nav_element = $('<div/>')\n",
       "    nav_element.attr('style', 'width: 100%');\n",
       "    this.root.append(nav_element);\n",
       "\n",
       "    // Define a callback function for later on.\n",
       "    function toolbar_event(event) {\n",
       "        return fig.toolbar_button_onclick(event['data']);\n",
       "    }\n",
       "    function toolbar_mouse_event(event) {\n",
       "        return fig.toolbar_button_onmouseover(event['data']);\n",
       "    }\n",
       "\n",
       "    for(var toolbar_ind in mpl.toolbar_items) {\n",
       "        var name = mpl.toolbar_items[toolbar_ind][0];\n",
       "        var tooltip = mpl.toolbar_items[toolbar_ind][1];\n",
       "        var image = mpl.toolbar_items[toolbar_ind][2];\n",
       "        var method_name = mpl.toolbar_items[toolbar_ind][3];\n",
       "\n",
       "        if (!name) {\n",
       "            // put a spacer in here.\n",
       "            continue;\n",
       "        }\n",
       "        var button = $('<button/>');\n",
       "        button.addClass('ui-button ui-widget ui-state-default ui-corner-all ' +\n",
       "                        'ui-button-icon-only');\n",
       "        button.attr('role', 'button');\n",
       "        button.attr('aria-disabled', 'false');\n",
       "        button.click(method_name, toolbar_event);\n",
       "        button.mouseover(tooltip, toolbar_mouse_event);\n",
       "\n",
       "        var icon_img = $('<span/>');\n",
       "        icon_img.addClass('ui-button-icon-primary ui-icon');\n",
       "        icon_img.addClass(image);\n",
       "        icon_img.addClass('ui-corner-all');\n",
       "\n",
       "        var tooltip_span = $('<span/>');\n",
       "        tooltip_span.addClass('ui-button-text');\n",
       "        tooltip_span.html(tooltip);\n",
       "\n",
       "        button.append(icon_img);\n",
       "        button.append(tooltip_span);\n",
       "\n",
       "        nav_element.append(button);\n",
       "    }\n",
       "\n",
       "    var fmt_picker_span = $('<span/>');\n",
       "\n",
       "    var fmt_picker = $('<select/>');\n",
       "    fmt_picker.addClass('mpl-toolbar-option ui-widget ui-widget-content');\n",
       "    fmt_picker_span.append(fmt_picker);\n",
       "    nav_element.append(fmt_picker_span);\n",
       "    this.format_dropdown = fmt_picker[0];\n",
       "\n",
       "    for (var ind in mpl.extensions) {\n",
       "        var fmt = mpl.extensions[ind];\n",
       "        var option = $(\n",
       "            '<option/>', {selected: fmt === mpl.default_extension}).html(fmt);\n",
       "        fmt_picker.append(option)\n",
       "    }\n",
       "\n",
       "    // Add hover states to the ui-buttons\n",
       "    $( \".ui-button\" ).hover(\n",
       "        function() { $(this).addClass(\"ui-state-hover\");},\n",
       "        function() { $(this).removeClass(\"ui-state-hover\");}\n",
       "    );\n",
       "\n",
       "    var status_bar = $('<span class=\"mpl-message\"/>');\n",
       "    nav_element.append(status_bar);\n",
       "    this.message = status_bar[0];\n",
       "}\n",
       "\n",
       "mpl.figure.prototype.request_resize = function(x_pixels, y_pixels) {\n",
       "    // Request matplotlib to resize the figure. Matplotlib will then trigger a resize in the client,\n",
       "    // which will in turn request a refresh of the image.\n",
       "    this.send_message('resize', {'width': x_pixels, 'height': y_pixels});\n",
       "}\n",
       "\n",
       "mpl.figure.prototype.send_message = function(type, properties) {\n",
       "    properties['type'] = type;\n",
       "    properties['figure_id'] = this.id;\n",
       "    this.ws.send(JSON.stringify(properties));\n",
       "}\n",
       "\n",
       "mpl.figure.prototype.send_draw_message = function() {\n",
       "    if (!this.waiting) {\n",
       "        this.waiting = true;\n",
       "        this.ws.send(JSON.stringify({type: \"draw\", figure_id: this.id}));\n",
       "    }\n",
       "}\n",
       "\n",
       "\n",
       "mpl.figure.prototype.handle_save = function(fig, msg) {\n",
       "    var format_dropdown = fig.format_dropdown;\n",
       "    var format = format_dropdown.options[format_dropdown.selectedIndex].value;\n",
       "    fig.ondownload(fig, format);\n",
       "}\n",
       "\n",
       "\n",
       "mpl.figure.prototype.handle_resize = function(fig, msg) {\n",
       "    var size = msg['size'];\n",
       "    if (size[0] != fig.canvas.width || size[1] != fig.canvas.height) {\n",
       "        fig._resize_canvas(size[0], size[1]);\n",
       "        fig.send_message(\"refresh\", {});\n",
       "    };\n",
       "}\n",
       "\n",
       "mpl.figure.prototype.handle_rubberband = function(fig, msg) {\n",
       "    var x0 = msg['x0'] / mpl.ratio;\n",
       "    var y0 = (fig.canvas.height - msg['y0']) / mpl.ratio;\n",
       "    var x1 = msg['x1'] / mpl.ratio;\n",
       "    var y1 = (fig.canvas.height - msg['y1']) / mpl.ratio;\n",
       "    x0 = Math.floor(x0) + 0.5;\n",
       "    y0 = Math.floor(y0) + 0.5;\n",
       "    x1 = Math.floor(x1) + 0.5;\n",
       "    y1 = Math.floor(y1) + 0.5;\n",
       "    var min_x = Math.min(x0, x1);\n",
       "    var min_y = Math.min(y0, y1);\n",
       "    var width = Math.abs(x1 - x0);\n",
       "    var height = Math.abs(y1 - y0);\n",
       "\n",
       "    fig.rubberband_context.clearRect(\n",
       "        0, 0, fig.canvas.width, fig.canvas.height);\n",
       "\n",
       "    fig.rubberband_context.strokeRect(min_x, min_y, width, height);\n",
       "}\n",
       "\n",
       "mpl.figure.prototype.handle_figure_label = function(fig, msg) {\n",
       "    // Updates the figure title.\n",
       "    fig.header.textContent = msg['label'];\n",
       "}\n",
       "\n",
       "mpl.figure.prototype.handle_cursor = function(fig, msg) {\n",
       "    var cursor = msg['cursor'];\n",
       "    switch(cursor)\n",
       "    {\n",
       "    case 0:\n",
       "        cursor = 'pointer';\n",
       "        break;\n",
       "    case 1:\n",
       "        cursor = 'default';\n",
       "        break;\n",
       "    case 2:\n",
       "        cursor = 'crosshair';\n",
       "        break;\n",
       "    case 3:\n",
       "        cursor = 'move';\n",
       "        break;\n",
       "    }\n",
       "    fig.rubberband_canvas.style.cursor = cursor;\n",
       "}\n",
       "\n",
       "mpl.figure.prototype.handle_message = function(fig, msg) {\n",
       "    fig.message.textContent = msg['message'];\n",
       "}\n",
       "\n",
       "mpl.figure.prototype.handle_draw = function(fig, msg) {\n",
       "    // Request the server to send over a new figure.\n",
       "    fig.send_draw_message();\n",
       "}\n",
       "\n",
       "mpl.figure.prototype.handle_image_mode = function(fig, msg) {\n",
       "    fig.image_mode = msg['mode'];\n",
       "}\n",
       "\n",
       "mpl.figure.prototype.updated_canvas_event = function() {\n",
       "    // Called whenever the canvas gets updated.\n",
       "    this.send_message(\"ack\", {});\n",
       "}\n",
       "\n",
       "// A function to construct a web socket function for onmessage handling.\n",
       "// Called in the figure constructor.\n",
       "mpl.figure.prototype._make_on_message_function = function(fig) {\n",
       "    return function socket_on_message(evt) {\n",
       "        if (evt.data instanceof Blob) {\n",
       "            /* FIXME: We get \"Resource interpreted as Image but\n",
       "             * transferred with MIME type text/plain:\" errors on\n",
       "             * Chrome.  But how to set the MIME type?  It doesn't seem\n",
       "             * to be part of the websocket stream */\n",
       "            evt.data.type = \"image/png\";\n",
       "\n",
       "            /* Free the memory for the previous frames */\n",
       "            if (fig.imageObj.src) {\n",
       "                (window.URL || window.webkitURL).revokeObjectURL(\n",
       "                    fig.imageObj.src);\n",
       "            }\n",
       "\n",
       "            fig.imageObj.src = (window.URL || window.webkitURL).createObjectURL(\n",
       "                evt.data);\n",
       "            fig.updated_canvas_event();\n",
       "            fig.waiting = false;\n",
       "            return;\n",
       "        }\n",
       "        else if (typeof evt.data === 'string' && evt.data.slice(0, 21) == \"data:image/png;base64\") {\n",
       "            fig.imageObj.src = evt.data;\n",
       "            fig.updated_canvas_event();\n",
       "            fig.waiting = false;\n",
       "            return;\n",
       "        }\n",
       "\n",
       "        var msg = JSON.parse(evt.data);\n",
       "        var msg_type = msg['type'];\n",
       "\n",
       "        // Call the  \"handle_{type}\" callback, which takes\n",
       "        // the figure and JSON message as its only arguments.\n",
       "        try {\n",
       "            var callback = fig[\"handle_\" + msg_type];\n",
       "        } catch (e) {\n",
       "            console.log(\"No handler for the '\" + msg_type + \"' message type: \", msg);\n",
       "            return;\n",
       "        }\n",
       "\n",
       "        if (callback) {\n",
       "            try {\n",
       "                // console.log(\"Handling '\" + msg_type + \"' message: \", msg);\n",
       "                callback(fig, msg);\n",
       "            } catch (e) {\n",
       "                console.log(\"Exception inside the 'handler_\" + msg_type + \"' callback:\", e, e.stack, msg);\n",
       "            }\n",
       "        }\n",
       "    };\n",
       "}\n",
       "\n",
       "// from http://stackoverflow.com/questions/1114465/getting-mouse-location-in-canvas\n",
       "mpl.findpos = function(e) {\n",
       "    //this section is from http://www.quirksmode.org/js/events_properties.html\n",
       "    var targ;\n",
       "    if (!e)\n",
       "        e = window.event;\n",
       "    if (e.target)\n",
       "        targ = e.target;\n",
       "    else if (e.srcElement)\n",
       "        targ = e.srcElement;\n",
       "    if (targ.nodeType == 3) // defeat Safari bug\n",
       "        targ = targ.parentNode;\n",
       "\n",
       "    // jQuery normalizes the pageX and pageY\n",
       "    // pageX,Y are the mouse positions relative to the document\n",
       "    // offset() returns the position of the element relative to the document\n",
       "    var x = e.pageX - $(targ).offset().left;\n",
       "    var y = e.pageY - $(targ).offset().top;\n",
       "\n",
       "    return {\"x\": x, \"y\": y};\n",
       "};\n",
       "\n",
       "/*\n",
       " * return a copy of an object with only non-object keys\n",
       " * we need this to avoid circular references\n",
       " * http://stackoverflow.com/a/24161582/3208463\n",
       " */\n",
       "function simpleKeys (original) {\n",
       "  return Object.keys(original).reduce(function (obj, key) {\n",
       "    if (typeof original[key] !== 'object')\n",
       "        obj[key] = original[key]\n",
       "    return obj;\n",
       "  }, {});\n",
       "}\n",
       "\n",
       "mpl.figure.prototype.mouse_event = function(event, name) {\n",
       "    var canvas_pos = mpl.findpos(event)\n",
       "\n",
       "    if (name === 'button_press')\n",
       "    {\n",
       "        this.canvas.focus();\n",
       "        this.canvas_div.focus();\n",
       "    }\n",
       "\n",
       "    var x = canvas_pos.x * mpl.ratio;\n",
       "    var y = canvas_pos.y * mpl.ratio;\n",
       "\n",
       "    this.send_message(name, {x: x, y: y, button: event.button,\n",
       "                             step: event.step,\n",
       "                             guiEvent: simpleKeys(event)});\n",
       "\n",
       "    /* This prevents the web browser from automatically changing to\n",
       "     * the text insertion cursor when the button is pressed.  We want\n",
       "     * to control all of the cursor setting manually through the\n",
       "     * 'cursor' event from matplotlib */\n",
       "    event.preventDefault();\n",
       "    return false;\n",
       "}\n",
       "\n",
       "mpl.figure.prototype._key_event_extra = function(event, name) {\n",
       "    // Handle any extra behaviour associated with a key event\n",
       "}\n",
       "\n",
       "mpl.figure.prototype.key_event = function(event, name) {\n",
       "\n",
       "    // Prevent repeat events\n",
       "    if (name == 'key_press')\n",
       "    {\n",
       "        if (event.which === this._key)\n",
       "            return;\n",
       "        else\n",
       "            this._key = event.which;\n",
       "    }\n",
       "    if (name == 'key_release')\n",
       "        this._key = null;\n",
       "\n",
       "    var value = '';\n",
       "    if (event.ctrlKey && event.which != 17)\n",
       "        value += \"ctrl+\";\n",
       "    if (event.altKey && event.which != 18)\n",
       "        value += \"alt+\";\n",
       "    if (event.shiftKey && event.which != 16)\n",
       "        value += \"shift+\";\n",
       "\n",
       "    value += 'k';\n",
       "    value += event.which.toString();\n",
       "\n",
       "    this._key_event_extra(event, name);\n",
       "\n",
       "    this.send_message(name, {key: value,\n",
       "                             guiEvent: simpleKeys(event)});\n",
       "    return false;\n",
       "}\n",
       "\n",
       "mpl.figure.prototype.toolbar_button_onclick = function(name) {\n",
       "    if (name == 'download') {\n",
       "        this.handle_save(this, null);\n",
       "    } else {\n",
       "        this.send_message(\"toolbar_button\", {name: name});\n",
       "    }\n",
       "};\n",
       "\n",
       "mpl.figure.prototype.toolbar_button_onmouseover = function(tooltip) {\n",
       "    this.message.textContent = tooltip;\n",
       "};\n",
       "mpl.toolbar_items = [[\"Home\", \"Reset original view\", \"fa fa-home icon-home\", \"home\"], [\"Back\", \"Back to  previous view\", \"fa fa-arrow-left icon-arrow-left\", \"back\"], [\"Forward\", \"Forward to next view\", \"fa fa-arrow-right icon-arrow-right\", \"forward\"], [\"\", \"\", \"\", \"\"], [\"Pan\", \"Pan axes with left mouse, zoom with right\", \"fa fa-arrows icon-move\", \"pan\"], [\"Zoom\", \"Zoom to rectangle\", \"fa fa-square-o icon-check-empty\", \"zoom\"], [\"\", \"\", \"\", \"\"], [\"Download\", \"Download plot\", \"fa fa-floppy-o icon-save\", \"download\"]];\n",
       "\n",
       "mpl.extensions = [\"eps\", \"jpeg\", \"pdf\", \"png\", \"ps\", \"raw\", \"svg\", \"tif\"];\n",
       "\n",
       "mpl.default_extension = \"png\";var comm_websocket_adapter = function(comm) {\n",
       "    // Create a \"websocket\"-like object which calls the given IPython comm\n",
       "    // object with the appropriate methods. Currently this is a non binary\n",
       "    // socket, so there is still some room for performance tuning.\n",
       "    var ws = {};\n",
       "\n",
       "    ws.close = function() {\n",
       "        comm.close()\n",
       "    };\n",
       "    ws.send = function(m) {\n",
       "        //console.log('sending', m);\n",
       "        comm.send(m);\n",
       "    };\n",
       "    // Register the callback with on_msg.\n",
       "    comm.on_msg(function(msg) {\n",
       "        //console.log('receiving', msg['content']['data'], msg);\n",
       "        // Pass the mpl event to the overriden (by mpl) onmessage function.\n",
       "        ws.onmessage(msg['content']['data'])\n",
       "    });\n",
       "    return ws;\n",
       "}\n",
       "\n",
       "mpl.mpl_figure_comm = function(comm, msg) {\n",
       "    // This is the function which gets called when the mpl process\n",
       "    // starts-up an IPython Comm through the \"matplotlib\" channel.\n",
       "\n",
       "    var id = msg.content.data.id;\n",
       "    // Get hold of the div created by the display call when the Comm\n",
       "    // socket was opened in Python.\n",
       "    var element = $(\"#\" + id);\n",
       "    var ws_proxy = comm_websocket_adapter(comm)\n",
       "\n",
       "    function ondownload(figure, format) {\n",
       "        window.open(figure.imageObj.src);\n",
       "    }\n",
       "\n",
       "    var fig = new mpl.figure(id, ws_proxy,\n",
       "                           ondownload,\n",
       "                           element.get(0));\n",
       "\n",
       "    // Call onopen now - mpl needs it, as it is assuming we've passed it a real\n",
       "    // web socket which is closed, not our websocket->open comm proxy.\n",
       "    ws_proxy.onopen();\n",
       "\n",
       "    fig.parent_element = element.get(0);\n",
       "    fig.cell_info = mpl.find_output_cell(\"<div id='\" + id + \"'></div>\");\n",
       "    if (!fig.cell_info) {\n",
       "        console.error(\"Failed to find cell for figure\", id, fig);\n",
       "        return;\n",
       "    }\n",
       "\n",
       "    var output_index = fig.cell_info[2]\n",
       "    var cell = fig.cell_info[0];\n",
       "\n",
       "};\n",
       "\n",
       "mpl.figure.prototype.handle_close = function(fig, msg) {\n",
       "    var width = fig.canvas.width/mpl.ratio\n",
       "    fig.root.unbind('remove')\n",
       "\n",
       "    // Update the output cell to use the data from the current canvas.\n",
       "    fig.push_to_output();\n",
       "    var dataURL = fig.canvas.toDataURL();\n",
       "    // Re-enable the keyboard manager in IPython - without this line, in FF,\n",
       "    // the notebook keyboard shortcuts fail.\n",
       "    IPython.keyboard_manager.enable()\n",
       "    $(fig.parent_element).html('<img src=\"' + dataURL + '\" width=\"' + width + '\">');\n",
       "    fig.close_ws(fig, msg);\n",
       "}\n",
       "\n",
       "mpl.figure.prototype.close_ws = function(fig, msg){\n",
       "    fig.send_message('closing', msg);\n",
       "    // fig.ws.close()\n",
       "}\n",
       "\n",
       "mpl.figure.prototype.push_to_output = function(remove_interactive) {\n",
       "    // Turn the data on the canvas into data in the output cell.\n",
       "    var width = this.canvas.width/mpl.ratio\n",
       "    var dataURL = this.canvas.toDataURL();\n",
       "    this.cell_info[1]['text/html'] = '<img src=\"' + dataURL + '\" width=\"' + width + '\">';\n",
       "}\n",
       "\n",
       "mpl.figure.prototype.updated_canvas_event = function() {\n",
       "    // Tell IPython that the notebook contents must change.\n",
       "    IPython.notebook.set_dirty(true);\n",
       "    this.send_message(\"ack\", {});\n",
       "    var fig = this;\n",
       "    // Wait a second, then push the new image to the DOM so\n",
       "    // that it is saved nicely (might be nice to debounce this).\n",
       "    setTimeout(function () { fig.push_to_output() }, 1000);\n",
       "}\n",
       "\n",
       "mpl.figure.prototype._init_toolbar = function() {\n",
       "    var fig = this;\n",
       "\n",
       "    var nav_element = $('<div/>')\n",
       "    nav_element.attr('style', 'width: 100%');\n",
       "    this.root.append(nav_element);\n",
       "\n",
       "    // Define a callback function for later on.\n",
       "    function toolbar_event(event) {\n",
       "        return fig.toolbar_button_onclick(event['data']);\n",
       "    }\n",
       "    function toolbar_mouse_event(event) {\n",
       "        return fig.toolbar_button_onmouseover(event['data']);\n",
       "    }\n",
       "\n",
       "    for(var toolbar_ind in mpl.toolbar_items){\n",
       "        var name = mpl.toolbar_items[toolbar_ind][0];\n",
       "        var tooltip = mpl.toolbar_items[toolbar_ind][1];\n",
       "        var image = mpl.toolbar_items[toolbar_ind][2];\n",
       "        var method_name = mpl.toolbar_items[toolbar_ind][3];\n",
       "\n",
       "        if (!name) { continue; };\n",
       "\n",
       "        var button = $('<button class=\"btn btn-default\" href=\"#\" title=\"' + name + '\"><i class=\"fa ' + image + ' fa-lg\"></i></button>');\n",
       "        button.click(method_name, toolbar_event);\n",
       "        button.mouseover(tooltip, toolbar_mouse_event);\n",
       "        nav_element.append(button);\n",
       "    }\n",
       "\n",
       "    // Add the status bar.\n",
       "    var status_bar = $('<span class=\"mpl-message\" style=\"text-align:right; float: right;\"/>');\n",
       "    nav_element.append(status_bar);\n",
       "    this.message = status_bar[0];\n",
       "\n",
       "    // Add the close button to the window.\n",
       "    var buttongrp = $('<div class=\"btn-group inline pull-right\"></div>');\n",
       "    var button = $('<button class=\"btn btn-mini btn-primary\" href=\"#\" title=\"Stop Interaction\"><i class=\"fa fa-power-off icon-remove icon-large\"></i></button>');\n",
       "    button.click(function (evt) { fig.handle_close(fig, {}); } );\n",
       "    button.mouseover('Stop Interaction', toolbar_mouse_event);\n",
       "    buttongrp.append(button);\n",
       "    var titlebar = this.root.find($('.ui-dialog-titlebar'));\n",
       "    titlebar.prepend(buttongrp);\n",
       "}\n",
       "\n",
       "mpl.figure.prototype._root_extra_style = function(el){\n",
       "    var fig = this\n",
       "    el.on(\"remove\", function(){\n",
       "\tfig.close_ws(fig, {});\n",
       "    });\n",
       "}\n",
       "\n",
       "mpl.figure.prototype._canvas_extra_style = function(el){\n",
       "    // this is important to make the div 'focusable\n",
       "    el.attr('tabindex', 0)\n",
       "    // reach out to IPython and tell the keyboard manager to turn it's self\n",
       "    // off when our div gets focus\n",
       "\n",
       "    // location in version 3\n",
       "    if (IPython.notebook.keyboard_manager) {\n",
       "        IPython.notebook.keyboard_manager.register_events(el);\n",
       "    }\n",
       "    else {\n",
       "        // location in version 2\n",
       "        IPython.keyboard_manager.register_events(el);\n",
       "    }\n",
       "\n",
       "}\n",
       "\n",
       "mpl.figure.prototype._key_event_extra = function(event, name) {\n",
       "    var manager = IPython.notebook.keyboard_manager;\n",
       "    if (!manager)\n",
       "        manager = IPython.keyboard_manager;\n",
       "\n",
       "    // Check for shift+enter\n",
       "    if (event.shiftKey && event.which == 13) {\n",
       "        this.canvas_div.blur();\n",
       "        // select the cell after this one\n",
       "        var index = IPython.notebook.find_cell_index(this.cell_info[0]);\n",
       "        IPython.notebook.select(index + 1);\n",
       "    }\n",
       "}\n",
       "\n",
       "mpl.figure.prototype.handle_save = function(fig, msg) {\n",
       "    fig.ondownload(fig, null);\n",
       "}\n",
       "\n",
       "\n",
       "mpl.find_output_cell = function(html_output) {\n",
       "    // Return the cell and output element which can be found *uniquely* in the notebook.\n",
       "    // Note - this is a bit hacky, but it is done because the \"notebook_saving.Notebook\"\n",
       "    // IPython event is triggered only after the cells have been serialised, which for\n",
       "    // our purposes (turning an active figure into a static one), is too late.\n",
       "    var cells = IPython.notebook.get_cells();\n",
       "    var ncells = cells.length;\n",
       "    for (var i=0; i<ncells; i++) {\n",
       "        var cell = cells[i];\n",
       "        if (cell.cell_type === 'code'){\n",
       "            for (var j=0; j<cell.output_area.outputs.length; j++) {\n",
       "                var data = cell.output_area.outputs[j];\n",
       "                if (data.data) {\n",
       "                    // IPython >= 3 moved mimebundle to data attribute of output\n",
       "                    data = data.data;\n",
       "                }\n",
       "                if (data['text/html'] == html_output) {\n",
       "                    return [cell, data, j];\n",
       "                }\n",
       "            }\n",
       "        }\n",
       "    }\n",
       "}\n",
       "\n",
       "// Register the function which deals with the matplotlib target/channel.\n",
       "// The kernel may be null if the page has been refreshed.\n",
       "if (IPython.notebook.kernel != null) {\n",
       "    IPython.notebook.kernel.comm_manager.register_target('matplotlib', mpl.mpl_figure_comm);\n",
       "}\n"
      ],
      "text/plain": [
       "<IPython.core.display.Javascript object>"
      ]
     },
     "metadata": {},
     "output_type": "display_data"
    },
    {
     "data": {
      "text/html": [
       "<img src=\"data:image/png;base64,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\" width=\"640\">"
      ],
      "text/plain": [
       "<IPython.core.display.HTML object>"
      ]
     },
     "metadata": {},
     "output_type": "display_data"
    },
    {
     "data": {
      "text/plain": [
       "<matplotlib.text.Text at 0x18ba92fd0>"
      ]
     },
     "execution_count": 13,
     "metadata": {},
     "output_type": "execute_result"
    }
   ],
   "source": [
    "# plot years to see the distribution\n",
    "sns.set_style('whitegrid')\n",
    "fig, ax = plt.subplots()\n",
    "model_df['year'].hist(ax=ax, bins=100)\n",
    "ax.set_yscale('log')\n",
    "ax.tick_params(labelsize=14)\n",
    "ax.set_xlabel('Year Count', fontsize=14)\n",
    "ax.set_ylabel('Occurrence', fontsize=14)"
   ]
  },
  {
   "cell_type": "markdown",
   "metadata": {},
   "source": [
    "## years: binning + dummy encoding"
   ]
  },
  {
   "cell_type": "code",
   "execution_count": null,
   "metadata": {
    "collapsed": true
   },
   "outputs": [],
   "source": [
    "# insert binning here (by 10 years)"
   ]
  },
  {
   "cell_type": "code",
   "execution_count": 131,
   "metadata": {},
   "outputs": [
    {
     "data": {
      "text/plain": [
       "0    2015\n",
       "1    2016\n",
       "2    2015\n",
       "5    1968\n",
       "7    1973\n",
       "Name: year, dtype: int64"
      ]
     },
     "execution_count": 131,
     "metadata": {},
     "output_type": "execute_result"
    }
   ],
   "source": [
    "model_df['year'].head()"
   ]
  },
  {
   "cell_type": "code",
   "execution_count": 135,
   "metadata": {},
   "outputs": [
    {
     "data": {
      "text/html": [
       "<div>\n",
       "<style>\n",
       "    .dataframe thead tr:only-child th {\n",
       "        text-align: right;\n",
       "    }\n",
       "\n",
       "    .dataframe thead th {\n",
       "        text-align: left;\n",
       "    }\n",
       "\n",
       "    .dataframe tbody tr th {\n",
       "        vertical-align: top;\n",
       "    }\n",
       "</style>\n",
       "<table border=\"1\" class=\"dataframe\">\n",
       "  <thead>\n",
       "    <tr style=\"text-align: right;\">\n",
       "      <th></th>\n",
       "      <th>1800</th>\n",
       "      <th>1801</th>\n",
       "      <th>1802</th>\n",
       "      <th>1803</th>\n",
       "      <th>1804</th>\n",
       "      <th>1805</th>\n",
       "      <th>1806</th>\n",
       "      <th>1807</th>\n",
       "      <th>1808</th>\n",
       "      <th>1809</th>\n",
       "      <th>...</th>\n",
       "      <th>2008</th>\n",
       "      <th>2009</th>\n",
       "      <th>2010</th>\n",
       "      <th>2011</th>\n",
       "      <th>2012</th>\n",
       "      <th>2013</th>\n",
       "      <th>2014</th>\n",
       "      <th>2015</th>\n",
       "      <th>2016</th>\n",
       "      <th>2017</th>\n",
       "    </tr>\n",
       "  </thead>\n",
       "  <tbody>\n",
       "    <tr>\n",
       "      <th>0</th>\n",
       "      <td>0</td>\n",
       "      <td>0</td>\n",
       "      <td>0</td>\n",
       "      <td>0</td>\n",
       "      <td>0</td>\n",
       "      <td>0</td>\n",
       "      <td>0</td>\n",
       "      <td>0</td>\n",
       "      <td>0</td>\n",
       "      <td>0</td>\n",
       "      <td>...</td>\n",
       "      <td>0</td>\n",
       "      <td>0</td>\n",
       "      <td>0</td>\n",
       "      <td>0</td>\n",
       "      <td>0</td>\n",
       "      <td>0</td>\n",
       "      <td>0</td>\n",
       "      <td>1</td>\n",
       "      <td>0</td>\n",
       "      <td>0</td>\n",
       "    </tr>\n",
       "    <tr>\n",
       "      <th>1</th>\n",
       "      <td>0</td>\n",
       "      <td>0</td>\n",
       "      <td>0</td>\n",
       "      <td>0</td>\n",
       "      <td>0</td>\n",
       "      <td>0</td>\n",
       "      <td>0</td>\n",
       "      <td>0</td>\n",
       "      <td>0</td>\n",
       "      <td>0</td>\n",
       "      <td>...</td>\n",
       "      <td>0</td>\n",
       "      <td>0</td>\n",
       "      <td>0</td>\n",
       "      <td>0</td>\n",
       "      <td>0</td>\n",
       "      <td>0</td>\n",
       "      <td>0</td>\n",
       "      <td>0</td>\n",
       "      <td>1</td>\n",
       "      <td>0</td>\n",
       "    </tr>\n",
       "    <tr>\n",
       "      <th>2</th>\n",
       "      <td>0</td>\n",
       "      <td>0</td>\n",
       "      <td>0</td>\n",
       "      <td>0</td>\n",
       "      <td>0</td>\n",
       "      <td>0</td>\n",
       "      <td>0</td>\n",
       "      <td>0</td>\n",
       "      <td>0</td>\n",
       "      <td>0</td>\n",
       "      <td>...</td>\n",
       "      <td>0</td>\n",
       "      <td>0</td>\n",
       "      <td>0</td>\n",
       "      <td>0</td>\n",
       "      <td>0</td>\n",
       "      <td>0</td>\n",
       "      <td>0</td>\n",
       "      <td>1</td>\n",
       "      <td>0</td>\n",
       "      <td>0</td>\n",
       "    </tr>\n",
       "    <tr>\n",
       "      <th>5</th>\n",
       "      <td>0</td>\n",
       "      <td>0</td>\n",
       "      <td>0</td>\n",
       "      <td>0</td>\n",
       "      <td>0</td>\n",
       "      <td>0</td>\n",
       "      <td>0</td>\n",
       "      <td>0</td>\n",
       "      <td>0</td>\n",
       "      <td>0</td>\n",
       "      <td>...</td>\n",
       "      <td>0</td>\n",
       "      <td>0</td>\n",
       "      <td>0</td>\n",
       "      <td>0</td>\n",
       "      <td>0</td>\n",
       "      <td>0</td>\n",
       "      <td>0</td>\n",
       "      <td>0</td>\n",
       "      <td>0</td>\n",
       "      <td>0</td>\n",
       "    </tr>\n",
       "    <tr>\n",
       "      <th>7</th>\n",
       "      <td>0</td>\n",
       "      <td>0</td>\n",
       "      <td>0</td>\n",
       "      <td>0</td>\n",
       "      <td>0</td>\n",
       "      <td>0</td>\n",
       "      <td>0</td>\n",
       "      <td>0</td>\n",
       "      <td>0</td>\n",
       "      <td>0</td>\n",
       "      <td>...</td>\n",
       "      <td>0</td>\n",
       "      <td>0</td>\n",
       "      <td>0</td>\n",
       "      <td>0</td>\n",
       "      <td>0</td>\n",
       "      <td>0</td>\n",
       "      <td>0</td>\n",
       "      <td>0</td>\n",
       "      <td>0</td>\n",
       "      <td>0</td>\n",
       "    </tr>\n",
       "  </tbody>\n",
       "</table>\n",
       "<p>5 rows × 215 columns</p>\n",
       "</div>"
      ],
      "text/plain": [
       "   1800  1801  1802  1803  1804  1805  1806  1807  1808  1809  ...   2008  \\\n",
       "0     0     0     0     0     0     0     0     0     0     0  ...      0   \n",
       "1     0     0     0     0     0     0     0     0     0     0  ...      0   \n",
       "2     0     0     0     0     0     0     0     0     0     0  ...      0   \n",
       "5     0     0     0     0     0     0     0     0     0     0  ...      0   \n",
       "7     0     0     0     0     0     0     0     0     0     0  ...      0   \n",
       "\n",
       "   2009  2010  2011  2012  2013  2014  2015  2016  2017  \n",
       "0     0     0     0     0     0     0     1     0     0  \n",
       "1     0     0     0     0     0     0     0     1     0  \n",
       "2     0     0     0     0     0     0     1     0     0  \n",
       "5     0     0     0     0     0     0     0     0     0  \n",
       "7     0     0     0     0     0     0     0     0     0  \n",
       "\n",
       "[5 rows x 215 columns]"
      ]
     },
     "execution_count": 135,
     "metadata": {},
     "output_type": "execute_result"
    }
   ],
   "source": [
    "X_year = pd.get_dummies(model_df['year'])\n",
    "X_year.head()"
   ]
  },
  {
   "cell_type": "markdown",
   "metadata": {},
   "source": [
    "## abstract: stopwords, frequency based filtering (tf-idf?)"
   ]
  },
  {
   "cell_type": "code",
   "execution_count": 136,
   "metadata": {
    "collapsed": true
   },
   "outputs": [],
   "source": [
    "# need to fill in NaN for sklearn\n",
    "# is this needed > YES!\n",
    "abstract_df = model_df.fillna('None')"
   ]
  },
  {
   "cell_type": "code",
   "execution_count": 137,
   "metadata": {},
   "outputs": [
    {
     "data": {
      "text/plain": [
       "0    A system and method for maskless direct write ...\n",
       "1                                                 None\n",
       "2                                                 None\n",
       "5                                                 None\n",
       "7    Full textFull text is available as a scanned c...\n",
       "Name: abstract, dtype: object"
      ]
     },
     "execution_count": 137,
     "metadata": {},
     "output_type": "execute_result"
    }
   ],
   "source": [
    "# abstract: stopwords, frequency based filtering (tf-idf?)\n",
    "abstract_df['abstract'].head()"
   ]
  },
  {
   "cell_type": "code",
   "execution_count": 138,
   "metadata": {
    "collapsed": true
   },
   "outputs": [],
   "source": [
    "from sklearn.feature_extraction.text import TfidfVectorizer"
   ]
  },
  {
   "cell_type": "code",
   "execution_count": 139,
   "metadata": {
    "collapsed": true
   },
   "outputs": [],
   "source": [
    "vectorizer = TfidfVectorizer(sublinear_tf=True, max_df=0.5,\n",
    "                                 stop_words='english')\n",
    "X_abstract = vectorizer.fit_transform(abstract_df['abstract'])"
   ]
  },
  {
   "cell_type": "code",
   "execution_count": 140,
   "metadata": {},
   "outputs": [
    {
     "data": {
      "text/plain": [
       "<522017x524218 sparse matrix of type '<class 'numpy.float64'>'\n",
       "\twith 18710406 stored elements in Compressed Sparse Row format>"
      ]
     },
     "execution_count": 140,
     "metadata": {},
     "output_type": "execute_result"
    }
   ],
   "source": [
    "X_abstract"
   ]
  },
  {
   "cell_type": "code",
   "execution_count": 141,
   "metadata": {},
   "outputs": [
    {
     "name": "stdout",
     "output_type": "stream",
     "text": [
      "n_samples: 522017, n_features: 524218\n"
     ]
    }
   ],
   "source": [
    "print(\"n_samples: %d, n_features: %d\" % X_abstract.shape)"
   ]
  },
  {
   "cell_type": "markdown",
   "metadata": {},
   "source": [
    "# (3) a few more features, pipe, outcome"
   ]
  },
  {
   "cell_type": "markdown",
   "metadata": {
    "collapsed": true
   },
   "source": [
    "## authors: One-Hot Encoding using sklearn DictVectorizer()"
   ]
  },
  {
   "cell_type": "code",
   "execution_count": 54,
   "metadata": {},
   "outputs": [
    {
     "data": {
      "text/html": [
       "<div>\n",
       "<style>\n",
       "    .dataframe thead tr:only-child th {\n",
       "        text-align: right;\n",
       "    }\n",
       "\n",
       "    .dataframe thead th {\n",
       "        text-align: left;\n",
       "    }\n",
       "\n",
       "    .dataframe tbody tr th {\n",
       "        vertical-align: top;\n",
       "    }\n",
       "</style>\n",
       "<table border=\"1\" class=\"dataframe\">\n",
       "  <thead>\n",
       "    <tr style=\"text-align: right;\">\n",
       "      <th></th>\n",
       "      <th>authors</th>\n",
       "    </tr>\n",
       "  </thead>\n",
       "  <tbody>\n",
       "    <tr>\n",
       "      <th>0</th>\n",
       "      <td>NaN</td>\n",
       "    </tr>\n",
       "    <tr>\n",
       "      <th>1</th>\n",
       "      <td>[{'name': 'Ahmed M. Alluwaimi'}]</td>\n",
       "    </tr>\n",
       "    <tr>\n",
       "      <th>2</th>\n",
       "      <td>[{'org': 'Weill Cornell Medical College, New Y...</td>\n",
       "    </tr>\n",
       "    <tr>\n",
       "      <th>5</th>\n",
       "      <td>[{'name': 'George C. Sponsler'}]</td>\n",
       "    </tr>\n",
       "    <tr>\n",
       "      <th>7</th>\n",
       "      <td>[{'name': 'M. T. Richards'}]</td>\n",
       "    </tr>\n",
       "  </tbody>\n",
       "</table>\n",
       "</div>"
      ],
      "text/plain": [
       "                                             authors\n",
       "0                                                NaN\n",
       "1                   [{'name': 'Ahmed M. Alluwaimi'}]\n",
       "2  [{'org': 'Weill Cornell Medical College, New Y...\n",
       "5                   [{'name': 'George C. Sponsler'}]\n",
       "7                       [{'name': 'M. T. Richards'}]"
      ]
     },
     "execution_count": 54,
     "metadata": {},
     "output_type": "execute_result"
    }
   ],
   "source": [
    "authors_df = pd.DataFrame(model_df.authors)\n",
    "authors_df.head()"
   ]
  },
  {
   "cell_type": "code",
   "execution_count": 55,
   "metadata": {
    "collapsed": true
   },
   "outputs": [],
   "source": [
    "import json"
   ]
  },
  {
   "cell_type": "code",
   "execution_count": 58,
   "metadata": {},
   "outputs": [
    {
     "data": {
      "text/plain": [
       "dict"
      ]
     },
     "execution_count": 58,
     "metadata": {},
     "output_type": "execute_result"
    }
   ],
   "source": [
    "type(authors_df.authors[5][0])"
   ]
  },
  {
   "cell_type": "code",
   "execution_count": 99,
   "metadata": {
    "collapsed": true
   },
   "outputs": [],
   "source": [
    "authors_list = []\n",
    "\n",
    "for row in authors_df.itertuples():\n",
    "    # create a dictionary from each Series index\n",
    "    if type(row.authors) is list:\n",
    "        # add these keys + values to our running dictionary    \n",
    "        y = dict.fromkeys(row.authors[0].values(), row.Index)\n",
    "        authors_list.append(y)"
   ]
  },
  {
   "cell_type": "code",
   "execution_count": 124,
   "metadata": {},
   "outputs": [
    {
     "data": {
      "text/plain": [
       "[{'Ahmed M. Alluwaimi': 1},\n",
       " {'Jovana P. Lekovich': 2, 'Weill Cornell Medical College, New York, NY': 2},\n",
       " {'George C. Sponsler': 5},\n",
       " {'M. T. Richards': 7},\n",
       " {'Donald L. Baxter': 8}]"
      ]
     },
     "execution_count": 124,
     "metadata": {},
     "output_type": "execute_result"
    }
   ],
   "source": [
    "authors_list[0:5]"
   ]
  },
  {
   "cell_type": "code",
   "execution_count": 127,
   "metadata": {
    "collapsed": true
   },
   "outputs": [],
   "source": [
    "from sklearn.feature_extraction import DictVectorizer\n",
    "v = DictVectorizer(sparse=False)\n",
    "D = authors_list\n",
    "X = v.fit_transform(D)"
   ]
  },
  {
   "cell_type": "code",
   "execution_count": 126,
   "metadata": {},
   "outputs": [
    {
     "data": {
      "text/plain": [
       "array([[ 0.,  0.,  0., ...,  0.,  0.,  0.],\n",
       "       [ 0.,  0.,  0., ...,  0.,  0.,  0.],\n",
       "       [ 0.,  0.,  0., ...,  0.,  0.,  0.],\n",
       "       [ 0.,  0.,  0., ...,  0.,  0.,  0.],\n",
       "       [ 0.,  0.,  0., ...,  0.,  0.,  0.]])"
      ]
     },
     "execution_count": 126,
     "metadata": {},
     "output_type": "execute_result"
    }
   ],
   "source": [
    "X[0:5]"
   ]
  },
  {
   "cell_type": "markdown",
   "metadata": {
    "collapsed": true
   },
   "source": [
    "## fields of study: Feature Hashing?"
   ]
  },
  {
   "cell_type": "code",
   "execution_count": 134,
   "metadata": {},
   "outputs": [
    {
     "data": {
      "text/plain": [
       "0    [Electronic engineering, Computer hardware, En...\n",
       "1        [Biology, Virology, Immunology, Microbiology]\n",
       "2                                                 None\n",
       "5                                                 None\n",
       "7           [Medicine, Pathology, Gynecology, Surgery]\n",
       "Name: fos, dtype: object"
      ]
     },
     "execution_count": 134,
     "metadata": {},
     "output_type": "execute_result"
    }
   ],
   "source": [
    "model_df['fos'].head()"
   ]
  },
  {
   "cell_type": "code",
   "execution_count": 91,
   "metadata": {},
   "outputs": [
    {
     "data": {
      "text/plain": [
       "640694"
      ]
     },
     "execution_count": 91,
     "metadata": {},
     "output_type": "execute_result"
    }
   ],
   "source": [
    "len(authors_dict)"
   ]
  },
  {
   "cell_type": "code",
   "execution_count": 130,
   "metadata": {},
   "outputs": [
    {
     "data": {
      "text/html": [
       "<div>\n",
       "<style>\n",
       "    .dataframe thead tr:only-child th {\n",
       "        text-align: right;\n",
       "    }\n",
       "\n",
       "    .dataframe thead th {\n",
       "        text-align: left;\n",
       "    }\n",
       "\n",
       "    .dataframe tbody tr th {\n",
       "        vertical-align: top;\n",
       "    }\n",
       "</style>\n",
       "<table border=\"1\" class=\"dataframe\">\n",
       "  <thead>\n",
       "    <tr style=\"text-align: right;\">\n",
       "      <th></th>\n",
       "      <th>Biology</th>\n",
       "      <th>Immunology</th>\n",
       "      <th>Microbiology</th>\n",
       "      <th>Virology</th>\n",
       "    </tr>\n",
       "  </thead>\n",
       "  <tbody>\n",
       "    <tr>\n",
       "      <th>0</th>\n",
       "      <td>1</td>\n",
       "      <td>0</td>\n",
       "      <td>0</td>\n",
       "      <td>0</td>\n",
       "    </tr>\n",
       "    <tr>\n",
       "      <th>1</th>\n",
       "      <td>0</td>\n",
       "      <td>0</td>\n",
       "      <td>0</td>\n",
       "      <td>1</td>\n",
       "    </tr>\n",
       "    <tr>\n",
       "      <th>2</th>\n",
       "      <td>0</td>\n",
       "      <td>1</td>\n",
       "      <td>0</td>\n",
       "      <td>0</td>\n",
       "    </tr>\n",
       "    <tr>\n",
       "      <th>3</th>\n",
       "      <td>0</td>\n",
       "      <td>0</td>\n",
       "      <td>1</td>\n",
       "      <td>0</td>\n",
       "    </tr>\n",
       "  </tbody>\n",
       "</table>\n",
       "</div>"
      ],
      "text/plain": [
       "   Biology  Immunology  Microbiology  Virology\n",
       "0        1           0             0         0\n",
       "1        0           0             0         1\n",
       "2        0           1             0         0\n",
       "3        0           0             1         0"
      ]
     },
     "execution_count": 130,
     "metadata": {},
     "output_type": "execute_result"
    }
   ],
   "source": [
    "pd.get_dummies(model_df['fos'][1])"
   ]
  },
  {
   "cell_type": "code",
   "execution_count": null,
   "metadata": {
    "collapsed": true
   },
   "outputs": [],
   "source": []
  },
  {
   "cell_type": "markdown",
   "metadata": {
    "collapsed": true
   },
   "source": [
    "## titles: noun phrases + chunking"
   ]
  },
  {
   "cell_type": "code",
   "execution_count": 139,
   "metadata": {},
   "outputs": [
    {
     "data": {
      "text/plain": [
       "0    System and Method for Maskless Direct Write Li...\n",
       "1    The dilemma of the Mycobacterium avium subspec...\n",
       "2    Should endometriosis be an indication for intr...\n",
       "5    Should APS Discuss Public Issues: Direct, pers...\n",
       "7               Breast surgery--as an office procedure\n",
       "Name: title, dtype: object"
      ]
     },
     "execution_count": 139,
     "metadata": {},
     "output_type": "execute_result"
    }
   ],
   "source": [
    "model_df['title'].head()"
   ]
  },
  {
   "cell_type": "markdown",
   "metadata": {},
   "source": [
    "# (4) a few more...does that help? results? performance?\n",
    "### no? okay. return to best case. all about experimentation."
   ]
  },
  {
   "cell_type": "markdown",
   "metadata": {
    "collapsed": true
   },
   "source": [
    "## keywords: stemming?"
   ]
  },
  {
   "cell_type": "code",
   "execution_count": 137,
   "metadata": {},
   "outputs": [
    {
     "data": {
      "text/plain": [
       "0                                                 None\n",
       "1    [paratuberculosis, of, subspecies, proceedings...\n",
       "2                                                 None\n",
       "5                                                 None\n",
       "7    [breast neoplasms, female, middle aged, adoles...\n",
       "Name: keywords, dtype: object"
      ]
     },
     "execution_count": 137,
     "metadata": {},
     "output_type": "execute_result"
    }
   ],
   "source": [
    "model_df['keywords'].head()"
   ]
  },
  {
   "cell_type": "code",
   "execution_count": null,
   "metadata": {
    "collapsed": true
   },
   "outputs": [],
   "source": []
  },
  {
   "cell_type": "markdown",
   "metadata": {},
   "source": [
    "**Citations**\n",
    "\n",
    "Jie Tang, Jing Zhang, Limin Yao, Juanzi Li, Li Zhang, and Zhong Su. ArnetMiner: Extraction and Mining of Academic Social Networks. In Proceedings of the Fourteenth ACM SIGKDD International Conference on Knowledge Discovery and Data Mining (SIGKDD’2008). pp.990-998. [PDF](http://keg.cs.tsinghua.edu.cn/jietang/publications/KDD08-Tang-et-al-ArnetMiner.pdf) [Slides](http://keg.cs.tsinghua.edu.cn/jietang/publications/KDD08-Tang-et-al-Arnetminer.ppt) [System](http://aminer.org/) [API](http://aminer.org/RESTful_service)\n",
    "\n",
    "Arnab Sinha, Zhihong Shen, Yang Song, Hao Ma, Darrin Eide, Bo-June (Paul) Hsu, and Kuansan Wang. 2015. An Overview of Microsoft Academic Service (MAS) and Applications. In Proceedings of the 24th International Conference on World Wide Web (WWW ’15 Companion). ACM, New York, NY, USA, 243-246. [PDF](https://www.microsoft.com/en-us/research/publication/an-overview-of-microsoft-academic-service-mas-and-applications-2/) [System](https://academic.microsoft.com/) [API](https://docs.microsoft.com/en-us/azure/cognitive-services/academic-knowledge/home)"
   ]
  }
 ],
 "metadata": {
  "kernelspec": {
   "display_name": "Python 3",
   "language": "python",
   "name": "python3"
  },
  "language_info": {
   "codemirror_mode": {
    "name": "ipython",
    "version": 3
   },
   "file_extension": ".py",
   "mimetype": "text/x-python",
   "name": "python",
   "nbconvert_exporter": "python",
   "pygments_lexer": "ipython3",
   "version": "3.5.3"
  }
 },
 "nbformat": 4,
 "nbformat_minor": 2
}
